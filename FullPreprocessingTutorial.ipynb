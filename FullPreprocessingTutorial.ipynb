{
 "cells": [
  {
   "cell_type": "code",
   "execution_count": 288,
   "metadata": {
    "collapsed": true
   },
   "outputs": [
    {
     "ename": "ImportError",
     "evalue": "No module named 'cv2'",
     "traceback": [
      "\u001b[1;31m\u001b[0m",
      "\u001b[1;31mImportError\u001b[0mTraceback (most recent call last)",
      "\u001b[1;32m<ipython-input-288-fdcb2d49aaee>\u001b[0m in \u001b[0;36m<module>\u001b[1;34m()\u001b[0m\n\u001b[0;32m      7\u001b[0m \u001b[1;32mimport\u001b[0m \u001b[0mmatplotlib\u001b[0m\u001b[1;33m.\u001b[0m\u001b[0mpyplot\u001b[0m \u001b[1;32mas\u001b[0m \u001b[0mplt\u001b[0m\u001b[1;33m\u001b[0m\u001b[0m\n\u001b[0;32m      8\u001b[0m \u001b[1;33m\u001b[0m\u001b[0m\n\u001b[1;32m----> 9\u001b[1;33m \u001b[1;32mimport\u001b[0m \u001b[0mcv2\u001b[0m\u001b[1;33m\u001b[0m\u001b[0m\n\u001b[0m\u001b[0;32m     10\u001b[0m \u001b[1;33m\u001b[0m\u001b[0m\n\u001b[0;32m     11\u001b[0m \u001b[1;32mimport\u001b[0m \u001b[0mdicom\u001b[0m\u001b[1;33m\u001b[0m\u001b[0m\n",
      "\u001b[1;31mImportError\u001b[0m: No module named 'cv2'"
     ],
     "output_type": "error"
    }
   ],
   "source": [
    "%matplotlib inline\n",
    "\n",
    "import numpy as np\n",
    "import pandas as pd\n",
    "import os\n",
    "import struct\n",
    "import matplotlib.pyplot as plt\n",
    "\n",
    "import cv2\n",
    "\n",
    "import dicom\n",
    "# import SimpleITK as sitk \n",
    "\n",
    "from swat import *"
   ]
  },
  {
   "cell_type": "code",
   "execution_count": 287,
   "metadata": {},
   "outputs": [],
   "source": [
    "def imageShow(conn, casTable, imageId, nImages):\n",
    "    a = conn.table.fetch(table=casTable, sastypes=False, sortby=[{'name':'_id_'}], to=nImages)\n",
    "    fig = plt.figure(figsize=(20, 20))\n",
    "    for i in range(nImages):\n",
    "        imageData = a['Fetch'].ix[i][imageId]\n",
    "        img_np = cv2.imdecode(np.fromstring(imageData, np.uint8), 1)\n",
    "        fig.add_subplot(1, nImages, i+1)\n",
    "        plt.imshow(img_np)\n",
    "        img_np[:,:,[0,2]] = img_np[:,:,[2,0]]\n",
    "        plt.xticks([]), plt.yticks([])"
   ]
  },
  {
   "cell_type": "markdown",
   "metadata": {},
   "source": [
    "Load the available patient images: sample_images.7z from https://www.kaggle.com/c/data-science-bowl-2017/data."
   ]
  },
  {
   "cell_type": "code",
   "execution_count": 132,
   "metadata": {},
   "outputs": [
    {
     "data": {
      "text/plain": [
       "134"
      ]
     },
     "execution_count": 132,
     "metadata": {},
     "output_type": "execute_result"
    }
   ],
   "source": [
    "IMAGE_PATH = '../sample_images'\n",
    "# Each folder represents one (3D) patient image or scan.\n",
    "patients = os.listdir(IMAGE_PATH)\n",
    "patients.sort()\n",
    "patients\n",
    "# Each folder contains n DICOM files, where n is equal to the number of slices for the patient.\n",
    "len(os.listdir(IMAGE_PATH + '/' + patients[0]))"
   ]
  },
  {
   "cell_type": "markdown",
   "metadata": {},
   "source": [
    "Connect to the CAS server. \n",
    "My _authinfo file is located in my home directory: ~/_authinfo and contains as its first line \"default user europe\\sbxjen password ...\".\n",
    "Also put the sample images on the CAS server."
   ]
  },
  {
   "cell_type": "code",
   "execution_count": 4,
   "metadata": {},
   "outputs": [
    {
     "name": "stdout",
     "output_type": "stream",
     "text": [
      "NOTE: 'CASUSER(sbxjen)' is now the active caslib.\n"
     ]
    },
    {
     "data": {
      "text/html": [
       "<div class=\"cas-output-area\"></div>\n",
       "<p class=\"cas-results-performance\"><small><span class=\"cas-elapsed\">elapsed 0.0086s</span> &#183; <span class=\"cas-user\">user 0.009s</span> &#183; <span class=\"cas-memory\">mem 0.276MB</span></small></p>"
      ],
      "text/plain": [
       "<div class=\"cas-output-area\"></div>\n",
       "<p class=\"cas-results-performance\"><small><span class=\"cas-elapsed\">elapsed 0.0086s</span> &#183; <span class=\"cas-user\">user 0.009s</span> &#183; <span class=\"cas-memory\">mem 0.276MB</span></small></p>"
      ]
     },
     "execution_count": 4,
     "metadata": {},
     "output_type": "execute_result"
    }
   ],
   "source": [
    "conn = CAS('rdcgrd104.unx.sas.com', '56884', authinfo='../../_authinfo')\n",
    "conn.setsessopt(caslib='CASUSER(sbxjen)')"
   ]
  },
  {
   "cell_type": "code",
   "execution_count": 5,
   "metadata": {},
   "outputs": [
    {
     "name": "stdout",
     "output_type": "stream",
     "text": [
      "NOTE: Added action set 'Image'.\n"
     ]
    },
    {
     "name": "stdout",
     "output_type": "stream",
     "text": [
      "NOTE: Added action set 'BioMedImage'.\n"
     ]
    },
    {
     "name": "stdout",
     "output_type": "stream",
     "text": [
      "NOTE: Added action set 'DeepLearn'.\n"
     ]
    },
    {
     "data": {
      "text/html": [
       "<div class=\"cas-results-key\"><b>&#167; actionset</b></div>\n",
       "<div class=\"cas-results-body\">\n",
       "<div>DeepLearn</div>\n",
       "</div>\n",
       "<div class=\"cas-output-area\"></div>\n",
       "<p class=\"cas-results-performance\"><small><span class=\"cas-elapsed\">elapsed 0.31s</span> &#183; <span class=\"cas-user\">user 0.275s</span> &#183; <span class=\"cas-sys\">sys 0.012s</span> &#183; <span class=\"cas-memory\">mem 0.539MB</span></small></p>"
      ],
      "text/plain": [
       "<div class=\"cas-results-key\"><b>&#167; actionset</b></div>\n",
       "<div class=\"cas-results-body\">\n",
       "<div>DeepLearn</div>\n",
       "</div>\n",
       "<div class=\"cas-output-area\"></div>\n",
       "<p class=\"cas-results-performance\"><small><span class=\"cas-elapsed\">elapsed 0.31s</span> &#183; <span class=\"cas-user\">user 0.275s</span> &#183; <span class=\"cas-sys\">sys 0.012s</span> &#183; <span class=\"cas-memory\">mem 0.539MB</span></small></p>"
      ]
     },
     "execution_count": 5,
     "metadata": {},
     "output_type": "execute_result"
    }
   ],
   "source": [
    "conn.loadactionset(actionset='Image')\n",
    "conn.loadactionset(actionset='BioMedImage')\n",
    "conn.loadactionset(actionset='DeepLearn')"
   ]
  },
  {
   "cell_type": "markdown",
   "metadata": {},
   "source": [
    "Back to the client. Let's have a look at the images."
   ]
  },
  {
   "cell_type": "code",
   "execution_count": 208,
   "metadata": {},
   "outputs": [],
   "source": [
    "def loadScan(path):\n",
    "    \"\"\"\n",
    "    Load a scan, which consists of multiple slices.\n",
    "    :param      path: path to a patient scan\n",
    "    :return:    slices: a list of dicom.dataset.FileDataset\n",
    "    \"\"\"\n",
    "    slices = [dicom.read_file(path + '/' + s) for s in os.listdir(path)]\n",
    "    slices.sort(key = lambda x: int(x.ImagePositionPatient[2]))\n",
    "    try:\n",
    "        st = np.abs(slices[0].ImagePositionPatient[2] - slices[1].ImagePositionPatient[2])\n",
    "    except:\n",
    "        st = np.abs(slices[0].SliceLocation - slices[1].SliceLocation)\n",
    "    for s in slices:\n",
    "        s.SliceThickness = st\n",
    "    return slices"
   ]
  },
  {
   "cell_type": "code",
   "execution_count": 211,
   "metadata": {},
   "outputs": [
    {
     "data": {
      "text/plain": [
       "'2.5'"
      ]
     },
     "execution_count": 211,
     "metadata": {},
     "output_type": "execute_result"
    }
   ],
   "source": [
    "slices = loadScan(IMAGE_PATH + '/' + patients[0])\n",
    "slices[2].ImagePositionPatient"
   ]
  },
  {
   "cell_type": "code",
   "execution_count": 14,
   "metadata": {},
   "outputs": [],
   "source": [
    "def getImagePixels(path):\n",
    "    \"\"\"\n",
    "    Get scan pixels.\n",
    "    :param      path: path to a patient scan\n",
    "    :return:    np.array\n",
    "    \"\"\"\n",
    "    slices = loadScan(path)\n",
    "    image = np.stack([s.pixel_array for s in slices])\n",
    "    return image"
   ]
  },
  {
   "cell_type": "markdown",
   "metadata": {},
   "source": [
    "Every image is layered: a 3D (length x breadth x height) numpy array."
   ]
  },
  {
   "cell_type": "code",
   "execution_count": 293,
   "metadata": {},
   "outputs": [
    {
     "name": "stdout",
     "output_type": "stream",
     "text": [
      "int16\n"
     ]
    },
    {
     "data": {
      "text/html": [
       "<div>\n",
       "<table border=\"1\" class=\"dataframe\">\n",
       "  <thead>\n",
       "    <tr style=\"text-align: right;\">\n",
       "      <th></th>\n",
       "      <th>0</th>\n",
       "      <th>1</th>\n",
       "      <th>2</th>\n",
       "      <th>3</th>\n",
       "      <th>4</th>\n",
       "      <th>5</th>\n",
       "      <th>6</th>\n",
       "      <th>7</th>\n",
       "      <th>8</th>\n",
       "      <th>9</th>\n",
       "      <th>...</th>\n",
       "      <th>502</th>\n",
       "      <th>503</th>\n",
       "      <th>504</th>\n",
       "      <th>505</th>\n",
       "      <th>506</th>\n",
       "      <th>507</th>\n",
       "      <th>508</th>\n",
       "      <th>509</th>\n",
       "      <th>510</th>\n",
       "      <th>511</th>\n",
       "    </tr>\n",
       "  </thead>\n",
       "  <tbody>\n",
       "    <tr>\n",
       "      <th>0</th>\n",
       "      <td>-2000</td>\n",
       "      <td>-2000</td>\n",
       "      <td>-2000</td>\n",
       "      <td>-2000</td>\n",
       "      <td>-2000</td>\n",
       "      <td>-2000</td>\n",
       "      <td>-2000</td>\n",
       "      <td>-2000</td>\n",
       "      <td>-2000</td>\n",
       "      <td>-2000</td>\n",
       "      <td>...</td>\n",
       "      <td>-2000</td>\n",
       "      <td>-2000</td>\n",
       "      <td>-2000</td>\n",
       "      <td>-2000</td>\n",
       "      <td>-2000</td>\n",
       "      <td>-2000</td>\n",
       "      <td>-2000</td>\n",
       "      <td>-2000</td>\n",
       "      <td>-2000</td>\n",
       "      <td>-2000</td>\n",
       "    </tr>\n",
       "    <tr>\n",
       "      <th>1</th>\n",
       "      <td>-2000</td>\n",
       "      <td>-2000</td>\n",
       "      <td>-2000</td>\n",
       "      <td>-2000</td>\n",
       "      <td>-2000</td>\n",
       "      <td>-2000</td>\n",
       "      <td>-2000</td>\n",
       "      <td>-2000</td>\n",
       "      <td>-2000</td>\n",
       "      <td>-2000</td>\n",
       "      <td>...</td>\n",
       "      <td>-2000</td>\n",
       "      <td>-2000</td>\n",
       "      <td>-2000</td>\n",
       "      <td>-2000</td>\n",
       "      <td>-2000</td>\n",
       "      <td>-2000</td>\n",
       "      <td>-2000</td>\n",
       "      <td>-2000</td>\n",
       "      <td>-2000</td>\n",
       "      <td>-2000</td>\n",
       "    </tr>\n",
       "    <tr>\n",
       "      <th>2</th>\n",
       "      <td>-2000</td>\n",
       "      <td>-2000</td>\n",
       "      <td>-2000</td>\n",
       "      <td>-2000</td>\n",
       "      <td>-2000</td>\n",
       "      <td>-2000</td>\n",
       "      <td>-2000</td>\n",
       "      <td>-2000</td>\n",
       "      <td>-2000</td>\n",
       "      <td>-2000</td>\n",
       "      <td>...</td>\n",
       "      <td>-2000</td>\n",
       "      <td>-2000</td>\n",
       "      <td>-2000</td>\n",
       "      <td>-2000</td>\n",
       "      <td>-2000</td>\n",
       "      <td>-2000</td>\n",
       "      <td>-2000</td>\n",
       "      <td>-2000</td>\n",
       "      <td>-2000</td>\n",
       "      <td>-2000</td>\n",
       "    </tr>\n",
       "    <tr>\n",
       "      <th>3</th>\n",
       "      <td>-2000</td>\n",
       "      <td>-2000</td>\n",
       "      <td>-2000</td>\n",
       "      <td>-2000</td>\n",
       "      <td>-2000</td>\n",
       "      <td>-2000</td>\n",
       "      <td>-2000</td>\n",
       "      <td>-2000</td>\n",
       "      <td>-2000</td>\n",
       "      <td>-2000</td>\n",
       "      <td>...</td>\n",
       "      <td>-2000</td>\n",
       "      <td>-2000</td>\n",
       "      <td>-2000</td>\n",
       "      <td>-2000</td>\n",
       "      <td>-2000</td>\n",
       "      <td>-2000</td>\n",
       "      <td>-2000</td>\n",
       "      <td>-2000</td>\n",
       "      <td>-2000</td>\n",
       "      <td>-2000</td>\n",
       "    </tr>\n",
       "    <tr>\n",
       "      <th>4</th>\n",
       "      <td>-2000</td>\n",
       "      <td>-2000</td>\n",
       "      <td>-2000</td>\n",
       "      <td>-2000</td>\n",
       "      <td>-2000</td>\n",
       "      <td>-2000</td>\n",
       "      <td>-2000</td>\n",
       "      <td>-2000</td>\n",
       "      <td>-2000</td>\n",
       "      <td>-2000</td>\n",
       "      <td>...</td>\n",
       "      <td>-2000</td>\n",
       "      <td>-2000</td>\n",
       "      <td>-2000</td>\n",
       "      <td>-2000</td>\n",
       "      <td>-2000</td>\n",
       "      <td>-2000</td>\n",
       "      <td>-2000</td>\n",
       "      <td>-2000</td>\n",
       "      <td>-2000</td>\n",
       "      <td>-2000</td>\n",
       "    </tr>\n",
       "  </tbody>\n",
       "</table>\n",
       "<p>5 rows × 512 columns</p>\n",
       "</div>"
      ],
      "text/plain": [
       "<div>\n",
       "<table border=\"1\" class=\"dataframe\">\n",
       "  <thead>\n",
       "    <tr style=\"text-align: right;\">\n",
       "      <th></th>\n",
       "      <th>0</th>\n",
       "      <th>1</th>\n",
       "      <th>2</th>\n",
       "      <th>3</th>\n",
       "      <th>4</th>\n",
       "      <th>5</th>\n",
       "      <th>6</th>\n",
       "      <th>7</th>\n",
       "      <th>8</th>\n",
       "      <th>9</th>\n",
       "      <th>...</th>\n",
       "      <th>502</th>\n",
       "      <th>503</th>\n",
       "      <th>504</th>\n",
       "      <th>505</th>\n",
       "      <th>506</th>\n",
       "      <th>507</th>\n",
       "      <th>508</th>\n",
       "      <th>509</th>\n",
       "      <th>510</th>\n",
       "      <th>511</th>\n",
       "    </tr>\n",
       "  </thead>\n",
       "  <tbody>\n",
       "    <tr>\n",
       "      <th>0</th>\n",
       "      <td>-2000</td>\n",
       "      <td>-2000</td>\n",
       "      <td>-2000</td>\n",
       "      <td>-2000</td>\n",
       "      <td>-2000</td>\n",
       "      <td>-2000</td>\n",
       "      <td>-2000</td>\n",
       "      <td>-2000</td>\n",
       "      <td>-2000</td>\n",
       "      <td>-2000</td>\n",
       "      <td>...</td>\n",
       "      <td>-2000</td>\n",
       "      <td>-2000</td>\n",
       "      <td>-2000</td>\n",
       "      <td>-2000</td>\n",
       "      <td>-2000</td>\n",
       "      <td>-2000</td>\n",
       "      <td>-2000</td>\n",
       "      <td>-2000</td>\n",
       "      <td>-2000</td>\n",
       "      <td>-2000</td>\n",
       "    </tr>\n",
       "    <tr>\n",
       "      <th>1</th>\n",
       "      <td>-2000</td>\n",
       "      <td>-2000</td>\n",
       "      <td>-2000</td>\n",
       "      <td>-2000</td>\n",
       "      <td>-2000</td>\n",
       "      <td>-2000</td>\n",
       "      <td>-2000</td>\n",
       "      <td>-2000</td>\n",
       "      <td>-2000</td>\n",
       "      <td>-2000</td>\n",
       "      <td>...</td>\n",
       "      <td>-2000</td>\n",
       "      <td>-2000</td>\n",
       "      <td>-2000</td>\n",
       "      <td>-2000</td>\n",
       "      <td>-2000</td>\n",
       "      <td>-2000</td>\n",
       "      <td>-2000</td>\n",
       "      <td>-2000</td>\n",
       "      <td>-2000</td>\n",
       "      <td>-2000</td>\n",
       "    </tr>\n",
       "    <tr>\n",
       "      <th>2</th>\n",
       "      <td>-2000</td>\n",
       "      <td>-2000</td>\n",
       "      <td>-2000</td>\n",
       "      <td>-2000</td>\n",
       "      <td>-2000</td>\n",
       "      <td>-2000</td>\n",
       "      <td>-2000</td>\n",
       "      <td>-2000</td>\n",
       "      <td>-2000</td>\n",
       "      <td>-2000</td>\n",
       "      <td>...</td>\n",
       "      <td>-2000</td>\n",
       "      <td>-2000</td>\n",
       "      <td>-2000</td>\n",
       "      <td>-2000</td>\n",
       "      <td>-2000</td>\n",
       "      <td>-2000</td>\n",
       "      <td>-2000</td>\n",
       "      <td>-2000</td>\n",
       "      <td>-2000</td>\n",
       "      <td>-2000</td>\n",
       "    </tr>\n",
       "    <tr>\n",
       "      <th>3</th>\n",
       "      <td>-2000</td>\n",
       "      <td>-2000</td>\n",
       "      <td>-2000</td>\n",
       "      <td>-2000</td>\n",
       "      <td>-2000</td>\n",
       "      <td>-2000</td>\n",
       "      <td>-2000</td>\n",
       "      <td>-2000</td>\n",
       "      <td>-2000</td>\n",
       "      <td>-2000</td>\n",
       "      <td>...</td>\n",
       "      <td>-2000</td>\n",
       "      <td>-2000</td>\n",
       "      <td>-2000</td>\n",
       "      <td>-2000</td>\n",
       "      <td>-2000</td>\n",
       "      <td>-2000</td>\n",
       "      <td>-2000</td>\n",
       "      <td>-2000</td>\n",
       "      <td>-2000</td>\n",
       "      <td>-2000</td>\n",
       "    </tr>\n",
       "    <tr>\n",
       "      <th>4</th>\n",
       "      <td>-2000</td>\n",
       "      <td>-2000</td>\n",
       "      <td>-2000</td>\n",
       "      <td>-2000</td>\n",
       "      <td>-2000</td>\n",
       "      <td>-2000</td>\n",
       "      <td>-2000</td>\n",
       "      <td>-2000</td>\n",
       "      <td>-2000</td>\n",
       "      <td>-2000</td>\n",
       "      <td>...</td>\n",
       "      <td>-2000</td>\n",
       "      <td>-2000</td>\n",
       "      <td>-2000</td>\n",
       "      <td>-2000</td>\n",
       "      <td>-2000</td>\n",
       "      <td>-2000</td>\n",
       "      <td>-2000</td>\n",
       "      <td>-2000</td>\n",
       "      <td>-2000</td>\n",
       "      <td>-2000</td>\n",
       "    </tr>\n",
       "  </tbody>\n",
       "</table>\n",
       "<p>5 rows × 512 columns</p>\n",
       "</div>"
      ]
     },
     "execution_count": 293,
     "metadata": {},
     "output_type": "execute_result"
    }
   ],
   "source": [
    "slices = getpixels(IMAGE_PATH + '/' + patients[0])\n",
    "slice = slices[80]\n",
    "print(slice.dtype)\n",
    "df = pd.DataFrame(slice)\n",
    "df.head()"
   ]
  },
  {
   "cell_type": "code",
   "execution_count": 160,
   "metadata": {},
   "outputs": [
    {
     "data": {
      "text/plain": [
       "dicom.dataset.FileDataset"
      ]
     },
     "execution_count": 160,
     "metadata": {},
     "output_type": "execute_result"
    }
   ],
   "source": [
    "type(loadScan(IMAGE_PATH + '/' + patients[0])[0])"
   ]
  },
  {
   "cell_type": "markdown",
   "metadata": {},
   "source": [
    "Show one of the slices, for comparison below."
   ]
  },
  {
   "cell_type": "code",
   "execution_count": 146,
   "metadata": {},
   "outputs": [
    {
     "data": {
      "image/png": "[encoded data removed]",
      "text/plain": [
       "<matplotlib.figure.Figure at 0x18999da0>"
      ]
     },
     "metadata": {},
     "output_type": "display_data"
    }
   ],
   "source": [
    "plt.gray()\n",
    "plt.imshow(slice, vmin=0, vmax=1000)\n",
    "plt.show()"
   ]
  },
  {
   "cell_type": "markdown",
   "metadata": {},
   "source": [
    "Show a histogram of pixel values in slice, for comparison later on."
   ]
  },
  {
   "cell_type": "code",
   "execution_count": 148,
   "metadata": {},
   "outputs": [
    {
     "data": {
      "image/png": "[encoded data removed]",
      "text/plain": [
       "<matplotlib.figure.Figure at 0x1852c4e0>"
      ]
     },
     "metadata": {},
     "output_type": "display_data"
    }
   ],
   "source": [
    "plt.hist(slice.flatten(), bins=80)\n",
    "plt.show()"
   ]
  },
  {
   "cell_type": "markdown",
   "metadata": {},
   "source": [
    "Now let's have a look at the images on the CAS server side."
   ]
  },
  {
   "cell_type": "code",
   "execution_count": 207,
   "metadata": {},
   "outputs": [
    {
     "name": "stdout",
     "output_type": "stream",
     "text": [
      "NOTE: Loaded 134 images from /u/sbxjen/sample_images/00cba091fa4ad62cc3200a657aeb957e into Cloud Analytic Services table sample_images.\n"
     ]
    },
    {
     "data": {
      "text/html": [
       "<div class=\"cas-output-area\"></div>\n",
       "<p class=\"cas-results-performance\"><small><span class=\"cas-elapsed\">elapsed 7.85s</span> &#183; <span class=\"cas-user\">user 6.86s</span> &#183; <span class=\"cas-sys\">sys 0.486s</span> &#183; <span class=\"cas-memory\">mem 20.2MB</span></small></p>"
      ],
      "text/plain": [
       "<div class=\"cas-output-area\"></div>\n",
       "<p class=\"cas-results-performance\"><small><span class=\"cas-elapsed\">elapsed 7.85s</span> &#183; <span class=\"cas-user\">user 6.86s</span> &#183; <span class=\"cas-sys\">sys 0.486s</span> &#183; <span class=\"cas-memory\">mem 20.2MB</span></small></p>"
      ]
     },
     "execution_count": 207,
     "metadata": {},
     "output_type": "execute_result"
    }
   ],
   "source": [
    "# Just a test to check how standard CAS images should look like.\n",
    "# conn.image.loadimages(casOut={'caslib':'CASUSER(sbxjen)', 'name':'imagesTable', 'replace':True},\n",
    "#                      path='/u/etfcan/images/testImages')\n",
    "conn.image.loadImages(casOut={'caslib':'CASUSER(sbxjen)', 'name':'sample_images', 'replace':True},\n",
    "                      addColumns={\"Width\", \"Height\", \"Depth\", \"channelType\", \"channelCount\", \"position\", \"orientation\", \"spacing\"},\n",
    "                      decode=True, path='/u/sbxjen/sample_images/00cba091fa4ad62cc3200a657aeb957e')"
   ]
  },
  {
   "cell_type": "markdown",
   "metadata": {},
   "source": [
    "Below is a 3D medical image. To be continued ..."
   ]
  },
  {
   "cell_type": "code",
   "execution_count": 205,
   "metadata": {},
   "outputs": [
    {
     "name": "stdout",
     "output_type": "stream",
     "text": [
      "NOTE: Loaded 1 image from /u/fivada/Playpens/PlayITK/SampleImages/vhfAnkle.nii into Cloud Analytic Services table medical.\n"
     ]
    },
    {
     "data": {
      "text/html": [
       "<div class=\"cas-output-area\"></div>\n",
       "<p class=\"cas-results-performance\"><small><span class=\"cas-elapsed\">elapsed 0.48s</span> &#183; <span class=\"cas-user\">user 0.188s</span> &#183; <span class=\"cas-sys\">sys 0.283s</span> &#183; <span class=\"cas-memory\">mem 228MB</span></small></p>"
      ],
      "text/plain": [
       "<div class=\"cas-output-area\"></div>\n",
       "<p class=\"cas-results-performance\"><small><span class=\"cas-elapsed\">elapsed 0.48s</span> &#183; <span class=\"cas-user\">user 0.188s</span> &#183; <span class=\"cas-sys\">sys 0.283s</span> &#183; <span class=\"cas-memory\">mem 228MB</span></small></p>"
      ]
     },
     "execution_count": 205,
     "metadata": {},
     "output_type": "execute_result"
    }
   ],
   "source": [
    "conn.image.loadImages(casOut={'caslib':'CASUSER(sbxjen)', 'name':'medical', 'replace':True}, \n",
    "                      addColumns={\"Width\", \"Height\", \"Depth\", \"channelType\", \"channelCount\", \"position\", \"orientation\", \"spacing\"},\n",
    "                      decode=True, path='/u/fivada/Playpens/PlayITK/SampleImages/vhfAnkle.nii')"
   ]
  },
  {
   "cell_type": "code",
   "execution_count": 216,
   "metadata": {},
   "outputs": [],
   "source": [
    "fetchedRows = conn.fetch(table={'caslib':'CASUSER(sbxjen)', 'name':'sample_images'}, sastypes=False, to=200)['Fetch'] # sortBy=\"_position_\" has no meaning at this point"
   ]
  },
  {
   "cell_type": "code",
   "execution_count": 203,
   "metadata": {},
   "outputs": [
    {
     "data": {
      "text/plain": [
       "0      1\n1      2\n2      3\n3      4\n4      5\n5      6\n6      7\n7      8\n8      9\n9     10\n10    11\n11    12\n12    13\n13    14\n14    15\n15    16\n16    17\n17    18\n18    19\n19    20\nName: _id_, dtype: int64"
      ]
     },
     "execution_count": 203,
     "metadata": {},
     "output_type": "execute_result"
    }
   ],
   "source": [
    "fetchedRows[\"_id_\"] # fetchedRows is a subclass of Python’s ordered dictionary."
   ]
  },
  {
   "cell_type": "code",
   "execution_count": null,
   "metadata": {},
   "outputs": [],
   "source": [
    "def updateImageWithThickness(slices):\n",
    "    \"\"\"\n",
    "    Update patient image with the thickness of each slice.\n",
    "    :param      slices: the slices making up one scan in one CAS Table\n",
    "    :return:    slices, updated with slices[\"_positionPatient_\"] = double(slices[\"_position_\"]) and slices[\"_thickness_\"]\n",
    "    \"\"\"\n",
    "    dim = slices[\"_dimension_\"][0]\n",
    "    slices[\"_positionPatient_\"] = pd.Series(np.array([struct.unpack('='+str(dim)+'d', pos[0:dim*8])[2] for pos in slices[\"_position_\"]], dtype=np.float64))\n",
    "    slices = slices.sort_values(by=\"_positionPatient_\")\n",
    "    slices = slices.reset_index(drop=True)\n",
    "    st = np.abs(slices[\"_positionPatient_\"].iloc[0] - slices[\"_positionPatient_\"].iloc[1])\n",
    "    print(st)\n",
    "    slices[\"_thickness_\"] = pd.Series(st * np.ones_like(slices[\"_positionPatient_\"], dtype=np.int64))\n",
    "    return slices"
   ]
  },
  {
   "cell_type": "code",
   "execution_count": 263,
   "metadata": {},
   "outputs": [],
   "source": [
    "def getImageArray(images, dims, res, fmts, n=0):\n",
    "    \"\"\"\n",
    "    Get pixels. \n",
    "    :param images: \n",
    "    :param dims: \n",
    "    :param res: \n",
    "    :param fmts: \n",
    "    :param n: \n",
    "    :return: \n",
    "    \"\"\"\n",
    "    dim = dims[n]\n",
    "    res = np.array(struct.unpack('='+str(dim)+'q', res[n][0:dim*8]), dtype=np.int64)\n",
    "    res = res[::-1]\n",
    "    fmt = fmts[n]\n",
    "    nCells = np.prod(res)\n",
    "    if (fmt==37):    \n",
    "        image = np.array(struct.unpack('='+str(nCells)+'i', images[n][0:4*nCells]), dtype=np.int32)\n",
    "        image = np.reshape(image, res)\n",
    "    elif (fmt==35) or (fmt==33):\n",
    "        image = np.array(struct.unpack('='+str(nCells)+'h', images[n][0:2*nCells]), dtype=np.int16)\n",
    "        image = np.reshape(image, res)\n",
    "    elif (fmt==32):\n",
    "        image = np.array(bytearray(images[n][0:nCells]), dtype=np.int8)\n",
    "        image = np.reshape(image, res)\n",
    "    # else:\n",
    "    #     image = np.array(bytearray(images[n]))\n",
    "    #     image = np.reshape(image, (res[0], res[1], 3))\n",
    "    #     image = reverse(image, 2)\n",
    "    return image + 1024"
   ]
  },
  {
   "cell_type": "markdown",
   "metadata": {},
   "source": [
    ""
   ]
  },
  {
   "cell_type": "code",
   "execution_count": 308,
   "metadata": {},
   "outputs": [
    {
     "data": {
      "text/html": [
       "<div>\n",
       "<table border=\"1\" class=\"dataframe\">\n",
       "  <thead>\n",
       "    <tr style=\"text-align: right;\">\n",
       "      <th></th>\n",
       "      <th>0</th>\n",
       "      <th>1</th>\n",
       "      <th>2</th>\n",
       "      <th>3</th>\n",
       "      <th>4</th>\n",
       "      <th>5</th>\n",
       "      <th>6</th>\n",
       "      <th>7</th>\n",
       "      <th>8</th>\n",
       "      <th>9</th>\n",
       "      <th>...</th>\n",
       "      <th>502</th>\n",
       "      <th>503</th>\n",
       "      <th>504</th>\n",
       "      <th>505</th>\n",
       "      <th>506</th>\n",
       "      <th>507</th>\n",
       "      <th>508</th>\n",
       "      <th>509</th>\n",
       "      <th>510</th>\n",
       "      <th>511</th>\n",
       "    </tr>\n",
       "  </thead>\n",
       "  <tbody>\n",
       "    <tr>\n",
       "      <th>0</th>\n",
       "      <td>-2000</td>\n",
       "      <td>-2000</td>\n",
       "      <td>-2000</td>\n",
       "      <td>-2000</td>\n",
       "      <td>-2000</td>\n",
       "      <td>-2000</td>\n",
       "      <td>-2000</td>\n",
       "      <td>-2000</td>\n",
       "      <td>-2000</td>\n",
       "      <td>-2000</td>\n",
       "      <td>...</td>\n",
       "      <td>-2000</td>\n",
       "      <td>-2000</td>\n",
       "      <td>-2000</td>\n",
       "      <td>-2000</td>\n",
       "      <td>-2000</td>\n",
       "      <td>-2000</td>\n",
       "      <td>-2000</td>\n",
       "      <td>-2000</td>\n",
       "      <td>-2000</td>\n",
       "      <td>-2000</td>\n",
       "    </tr>\n",
       "    <tr>\n",
       "      <th>1</th>\n",
       "      <td>-2000</td>\n",
       "      <td>-2000</td>\n",
       "      <td>-2000</td>\n",
       "      <td>-2000</td>\n",
       "      <td>-2000</td>\n",
       "      <td>-2000</td>\n",
       "      <td>-2000</td>\n",
       "      <td>-2000</td>\n",
       "      <td>-2000</td>\n",
       "      <td>-2000</td>\n",
       "      <td>...</td>\n",
       "      <td>-2000</td>\n",
       "      <td>-2000</td>\n",
       "      <td>-2000</td>\n",
       "      <td>-2000</td>\n",
       "      <td>-2000</td>\n",
       "      <td>-2000</td>\n",
       "      <td>-2000</td>\n",
       "      <td>-2000</td>\n",
       "      <td>-2000</td>\n",
       "      <td>-2000</td>\n",
       "    </tr>\n",
       "    <tr>\n",
       "      <th>2</th>\n",
       "      <td>-2000</td>\n",
       "      <td>-2000</td>\n",
       "      <td>-2000</td>\n",
       "      <td>-2000</td>\n",
       "      <td>-2000</td>\n",
       "      <td>-2000</td>\n",
       "      <td>-2000</td>\n",
       "      <td>-2000</td>\n",
       "      <td>-2000</td>\n",
       "      <td>-2000</td>\n",
       "      <td>...</td>\n",
       "      <td>-2000</td>\n",
       "      <td>-2000</td>\n",
       "      <td>-2000</td>\n",
       "      <td>-2000</td>\n",
       "      <td>-2000</td>\n",
       "      <td>-2000</td>\n",
       "      <td>-2000</td>\n",
       "      <td>-2000</td>\n",
       "      <td>-2000</td>\n",
       "      <td>-2000</td>\n",
       "    </tr>\n",
       "    <tr>\n",
       "      <th>3</th>\n",
       "      <td>-2000</td>\n",
       "      <td>-2000</td>\n",
       "      <td>-2000</td>\n",
       "      <td>-2000</td>\n",
       "      <td>-2000</td>\n",
       "      <td>-2000</td>\n",
       "      <td>-2000</td>\n",
       "      <td>-2000</td>\n",
       "      <td>-2000</td>\n",
       "      <td>-2000</td>\n",
       "      <td>...</td>\n",
       "      <td>-2000</td>\n",
       "      <td>-2000</td>\n",
       "      <td>-2000</td>\n",
       "      <td>-2000</td>\n",
       "      <td>-2000</td>\n",
       "      <td>-2000</td>\n",
       "      <td>-2000</td>\n",
       "      <td>-2000</td>\n",
       "      <td>-2000</td>\n",
       "      <td>-2000</td>\n",
       "    </tr>\n",
       "    <tr>\n",
       "      <th>4</th>\n",
       "      <td>-2000</td>\n",
       "      <td>-2000</td>\n",
       "      <td>-2000</td>\n",
       "      <td>-2000</td>\n",
       "      <td>-2000</td>\n",
       "      <td>-2000</td>\n",
       "      <td>-2000</td>\n",
       "      <td>-2000</td>\n",
       "      <td>-2000</td>\n",
       "      <td>-2000</td>\n",
       "      <td>...</td>\n",
       "      <td>-2000</td>\n",
       "      <td>-2000</td>\n",
       "      <td>-2000</td>\n",
       "      <td>-2000</td>\n",
       "      <td>-2000</td>\n",
       "      <td>-2000</td>\n",
       "      <td>-2000</td>\n",
       "      <td>-2000</td>\n",
       "      <td>-2000</td>\n",
       "      <td>-2000</td>\n",
       "    </tr>\n",
       "  </tbody>\n",
       "</table>\n",
       "<p>5 rows × 512 columns</p>\n",
       "</div>"
      ],
      "text/plain": [
       "<div>\n",
       "<table border=\"1\" class=\"dataframe\">\n",
       "  <thead>\n",
       "    <tr style=\"text-align: right;\">\n",
       "      <th></th>\n",
       "      <th>0</th>\n",
       "      <th>1</th>\n",
       "      <th>2</th>\n",
       "      <th>3</th>\n",
       "      <th>4</th>\n",
       "      <th>5</th>\n",
       "      <th>6</th>\n",
       "      <th>7</th>\n",
       "      <th>8</th>\n",
       "      <th>9</th>\n",
       "      <th>...</th>\n",
       "      <th>502</th>\n",
       "      <th>503</th>\n",
       "      <th>504</th>\n",
       "      <th>505</th>\n",
       "      <th>506</th>\n",
       "      <th>507</th>\n",
       "      <th>508</th>\n",
       "      <th>509</th>\n",
       "      <th>510</th>\n",
       "      <th>511</th>\n",
       "    </tr>\n",
       "  </thead>\n",
       "  <tbody>\n",
       "    <tr>\n",
       "      <th>0</th>\n",
       "      <td>-2000</td>\n",
       "      <td>-2000</td>\n",
       "      <td>-2000</td>\n",
       "      <td>-2000</td>\n",
       "      <td>-2000</td>\n",
       "      <td>-2000</td>\n",
       "      <td>-2000</td>\n",
       "      <td>-2000</td>\n",
       "      <td>-2000</td>\n",
       "      <td>-2000</td>\n",
       "      <td>...</td>\n",
       "      <td>-2000</td>\n",
       "      <td>-2000</td>\n",
       "      <td>-2000</td>\n",
       "      <td>-2000</td>\n",
       "      <td>-2000</td>\n",
       "      <td>-2000</td>\n",
       "      <td>-2000</td>\n",
       "      <td>-2000</td>\n",
       "      <td>-2000</td>\n",
       "      <td>-2000</td>\n",
       "    </tr>\n",
       "    <tr>\n",
       "      <th>1</th>\n",
       "      <td>-2000</td>\n",
       "      <td>-2000</td>\n",
       "      <td>-2000</td>\n",
       "      <td>-2000</td>\n",
       "      <td>-2000</td>\n",
       "      <td>-2000</td>\n",
       "      <td>-2000</td>\n",
       "      <td>-2000</td>\n",
       "      <td>-2000</td>\n",
       "      <td>-2000</td>\n",
       "      <td>...</td>\n",
       "      <td>-2000</td>\n",
       "      <td>-2000</td>\n",
       "      <td>-2000</td>\n",
       "      <td>-2000</td>\n",
       "      <td>-2000</td>\n",
       "      <td>-2000</td>\n",
       "      <td>-2000</td>\n",
       "      <td>-2000</td>\n",
       "      <td>-2000</td>\n",
       "      <td>-2000</td>\n",
       "    </tr>\n",
       "    <tr>\n",
       "      <th>2</th>\n",
       "      <td>-2000</td>\n",
       "      <td>-2000</td>\n",
       "      <td>-2000</td>\n",
       "      <td>-2000</td>\n",
       "      <td>-2000</td>\n",
       "      <td>-2000</td>\n",
       "      <td>-2000</td>\n",
       "      <td>-2000</td>\n",
       "      <td>-2000</td>\n",
       "      <td>-2000</td>\n",
       "      <td>...</td>\n",
       "      <td>-2000</td>\n",
       "      <td>-2000</td>\n",
       "      <td>-2000</td>\n",
       "      <td>-2000</td>\n",
       "      <td>-2000</td>\n",
       "      <td>-2000</td>\n",
       "      <td>-2000</td>\n",
       "      <td>-2000</td>\n",
       "      <td>-2000</td>\n",
       "      <td>-2000</td>\n",
       "    </tr>\n",
       "    <tr>\n",
       "      <th>3</th>\n",
       "      <td>-2000</td>\n",
       "      <td>-2000</td>\n",
       "      <td>-2000</td>\n",
       "      <td>-2000</td>\n",
       "      <td>-2000</td>\n",
       "      <td>-2000</td>\n",
       "      <td>-2000</td>\n",
       "      <td>-2000</td>\n",
       "      <td>-2000</td>\n",
       "      <td>-2000</td>\n",
       "      <td>...</td>\n",
       "      <td>-2000</td>\n",
       "      <td>-2000</td>\n",
       "      <td>-2000</td>\n",
       "      <td>-2000</td>\n",
       "      <td>-2000</td>\n",
       "      <td>-2000</td>\n",
       "      <td>-2000</td>\n",
       "      <td>-2000</td>\n",
       "      <td>-2000</td>\n",
       "      <td>-2000</td>\n",
       "    </tr>\n",
       "    <tr>\n",
       "      <th>4</th>\n",
       "      <td>-2000</td>\n",
       "      <td>-2000</td>\n",
       "      <td>-2000</td>\n",
       "      <td>-2000</td>\n",
       "      <td>-2000</td>\n",
       "      <td>-2000</td>\n",
       "      <td>-2000</td>\n",
       "      <td>-2000</td>\n",
       "      <td>-2000</td>\n",
       "      <td>-2000</td>\n",
       "      <td>...</td>\n",
       "      <td>-2000</td>\n",
       "      <td>-2000</td>\n",
       "      <td>-2000</td>\n",
       "      <td>-2000</td>\n",
       "      <td>-2000</td>\n",
       "      <td>-2000</td>\n",
       "      <td>-2000</td>\n",
       "      <td>-2000</td>\n",
       "      <td>-2000</td>\n",
       "      <td>-2000</td>\n",
       "    </tr>\n",
       "  </tbody>\n",
       "</table>\n",
       "<p>5 rows × 512 columns</p>\n",
       "</div>"
      ]
     },
     "execution_count": 308,
     "metadata": {},
     "output_type": "execute_result"
    }
   ],
   "source": [
    "slice = getImageArray(fetchedRows[\"_image_\"], fetchedRows[\"_dimension_\"], fetchedRows[\"_resolution_\"], fetchedRows[\"_imageFormat_\"], 80)\n",
    "df = pd.DataFrame(slice[0]) # slice.shape = [1 512 512]\n",
    "df.head()"
   ]
  },
  {
   "cell_type": "code",
   "execution_count": 309,
   "metadata": {},
   "outputs": [],
   "source": [
    "plt.gray()\n",
    "plt.imshow(slice[0], vmin=0, vmax=1000)\n",
    "plt.show()"
   ]
  },
  {
   "cell_type": "code",
   "execution_count": 291,
   "metadata": {},
   "outputs": [],
   "source": [
    "plt.gray()\n",
    "plt.imshow(slice[0], vmin=0, vmax=1000)\n",
    "plt.show()"
   ]
  },
  {
   "cell_type": "code",
   "execution_count": 271,
   "metadata": {},
   "outputs": [
    {
     "data": {
      "image/png": "[encoded data removed]",
      "text/plain": [
       "<matplotlib.figure.Figure at 0x18530240>"
      ]
     },
     "metadata": {},
     "output_type": "display_data"
    }
   ],
   "source": [
    "plt.hist(slice[0].flatten(), bins=80)\n",
    "plt.show()"
   ]
  },
  {
   "cell_type": "code",
   "execution_count": 310,
   "metadata": {},
   "outputs": [
    {
     "ename": "NameError",
     "evalue": "name 'cv2' is not defined",
     "traceback": [
      "\u001b[1;31m\u001b[0m",
      "\u001b[1;31mNameError\u001b[0mTraceback (most recent call last)",
      "\u001b[1;32m<ipython-input-310-445482ab9bb3>\u001b[0m in \u001b[0;36m<module>\u001b[1;34m()\u001b[0m\n\u001b[0;32m      1\u001b[0m \u001b[0msampleImagesTable\u001b[0m \u001b[1;33m=\u001b[0m \u001b[0mconn\u001b[0m\u001b[1;33m.\u001b[0m\u001b[0mCASTable\u001b[0m\u001b[1;33m(\u001b[0m\u001b[1;34m'sample_images'\u001b[0m\u001b[1;33m)\u001b[0m\u001b[1;33m\u001b[0m\u001b[0m\n\u001b[1;32m----> 2\u001b[1;33m \u001b[0mimageShow\u001b[0m\u001b[1;33m(\u001b[0m\u001b[0mconn\u001b[0m\u001b[1;33m,\u001b[0m \u001b[0msampleImagesTable\u001b[0m\u001b[1;33m,\u001b[0m \u001b[1;36m0\u001b[0m\u001b[1;33m,\u001b[0m \u001b[1;36m1\u001b[0m\u001b[1;33m)\u001b[0m\u001b[1;33m\u001b[0m\u001b[0m\n\u001b[0m",
      "\u001b[1;32m<ipython-input-287-31208753d5a4>\u001b[0m in \u001b[0;36mimageShow\u001b[1;34m(conn, casTable, imageId, nImages)\u001b[0m\n\u001b[0;32m      4\u001b[0m     \u001b[1;32mfor\u001b[0m \u001b[0mi\u001b[0m \u001b[1;32min\u001b[0m \u001b[0mrange\u001b[0m\u001b[1;33m(\u001b[0m\u001b[0mnImages\u001b[0m\u001b[1;33m)\u001b[0m\u001b[1;33m:\u001b[0m\u001b[1;33m\u001b[0m\u001b[0m\n\u001b[0;32m      5\u001b[0m         \u001b[0mimageData\u001b[0m \u001b[1;33m=\u001b[0m \u001b[0ma\u001b[0m\u001b[1;33m[\u001b[0m\u001b[1;34m'Fetch'\u001b[0m\u001b[1;33m]\u001b[0m\u001b[1;33m.\u001b[0m\u001b[0mix\u001b[0m\u001b[1;33m[\u001b[0m\u001b[0mi\u001b[0m\u001b[1;33m]\u001b[0m\u001b[1;33m[\u001b[0m\u001b[0mimageId\u001b[0m\u001b[1;33m]\u001b[0m\u001b[1;33m\u001b[0m\u001b[0m\n\u001b[1;32m----> 6\u001b[1;33m         \u001b[0mimg_np\u001b[0m \u001b[1;33m=\u001b[0m \u001b[0mcv2\u001b[0m\u001b[1;33m.\u001b[0m\u001b[0mimdecode\u001b[0m\u001b[1;33m(\u001b[0m\u001b[0mnp\u001b[0m\u001b[1;33m.\u001b[0m\u001b[0mfromstring\u001b[0m\u001b[1;33m(\u001b[0m\u001b[0mimageData\u001b[0m\u001b[1;33m,\u001b[0m \u001b[0mnp\u001b[0m\u001b[1;33m.\u001b[0m\u001b[0muint8\u001b[0m\u001b[1;33m)\u001b[0m\u001b[1;33m,\u001b[0m \u001b[1;36m1\u001b[0m\u001b[1;33m)\u001b[0m\u001b[1;33m\u001b[0m\u001b[0m\n\u001b[0m\u001b[0;32m      7\u001b[0m         \u001b[0mfig\u001b[0m\u001b[1;33m.\u001b[0m\u001b[0madd_subplot\u001b[0m\u001b[1;33m(\u001b[0m\u001b[1;36m1\u001b[0m\u001b[1;33m,\u001b[0m \u001b[0mnImages\u001b[0m\u001b[1;33m,\u001b[0m \u001b[0mi\u001b[0m\u001b[1;33m+\u001b[0m\u001b[1;36m1\u001b[0m\u001b[1;33m)\u001b[0m\u001b[1;33m\u001b[0m\u001b[0m\n\u001b[0;32m      8\u001b[0m         \u001b[0mplt\u001b[0m\u001b[1;33m.\u001b[0m\u001b[0mimshow\u001b[0m\u001b[1;33m(\u001b[0m\u001b[0mimg_np\u001b[0m\u001b[1;33m)\u001b[0m\u001b[1;33m\u001b[0m\u001b[0m\n",
      "\u001b[1;31mNameError\u001b[0m: name 'cv2' is not defined"
     ],
     "output_type": "error"
    },
    {
     "data": {
      "text/plain": [
       "<matplotlib.figure.Figure at 0xc614eb8>"
      ]
     },
     "execution_count": 0,
     "metadata": {},
     "output_type": "execute_result"
    }
   ],
   "source": [
    "# sampleImagesTable = conn.CASTable('sample_images')\n",
    "# imageShow(conn, sampleImagesTable, 0, 1)"
   ]
  },
  {
   "cell_type": "code",
   "execution_count": null,
   "metadata": {},
   "outputs": [],
   "source": [
    "conn.image.processImages(casout={'caslib':'CASUSER(sbxjen)','name':'processed_images'},\n",
    "                         imagefunctions=[{'functionoptions':{'functiontype':'GAUSSIAN_FILTER','kernelwidth':3,'kernelheight':3}}],\n",
    "                         imagetable={'caslib':'CASUSER(sbxjen)','name':'sample_images'})"
   ]
  },
  {
   "cell_type": "markdown",
   "metadata": {},
   "source": [
    "Back to a 3D example."
   ]
  },
  {
   "cell_type": "code",
   "execution_count": 323,
   "metadata": {},
   "outputs": [],
   "source": [
    "fetchedRows = conn.fetch(table={'caslib':'CASUSER(sbxjen)', 'name':'medical'}, sastypes=False, to=200)['Fetch']"
   ]
  },
  {
   "cell_type": "code",
   "execution_count": 327,
   "metadata": {},
   "outputs": [
    {
     "data": {
      "text/plain": [
       "0    b'\\x00\\xfc\\x00\\xfc\\x00\\xfc\\x00\\xfc\\x00\\xfc\\x00...\nName: _image_, dtype: object"
      ]
     },
     "execution_count": 327,
     "metadata": {},
     "output_type": "execute_result"
    }
   ],
   "source": [
    "fetchedRows[\"_image_\"]"
   ]
  },
  {
   "cell_type": "code",
   "execution_count": null,
   "metadata": {},
   "outputs": [],
   "source": [
    ""
   ]
  },
  {
   "cell_type": "code",
   "execution_count": null,
   "metadata": {},
   "outputs": [],
   "source": [
    "conn.image.flattenimagetable(casOut={'caslib':'CASUSER(sbxjen)', 'name':'processedImagesTable', 'replace':True}, \n",
    "                             imagetable={'caslib':'CASUSER(sbxjen)', 'name':'sample_images'})\n",
    "out = conn.table.fetch(table={'caslib':'CASUSER(sbxjen)', 'name':'processedImagesTable'}, to=2)\n",
    "out"
   ]
  },
  {
   "cell_type": "code",
   "execution_count": null,
   "metadata": {},
   "outputs": [],
   "source": [
    ""
   ]
  }
 ],
 "metadata": {
  "kernelspec": {
   "display_name": "Python 2",
   "language": "python",
   "name": "python2"
  },
  "language_info": {
   "codemirror_mode": {
    "name": "ipython",
    "version": 2.0
   },
   "file_extension": ".py",
   "mimetype": "text/x-python",
   "name": "python",
   "nbconvert_exporter": "python",
   "pygments_lexer": "ipython2",
   "version": "2.7.6"
  }
 },
 "nbformat": 4,
 "nbformat_minor": 0
}