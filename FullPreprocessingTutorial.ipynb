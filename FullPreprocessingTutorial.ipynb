{
 "cells": [
  {
   "cell_type": "code",
   "execution_count": 1,
   "metadata": {
    "collapsed": true
   },
   "outputs": [],
   "source": [
    "%matplotlib inline\n",
    "\n",
    "import numpy as np\n",
    "import pandas as pd\n",
    "import os\n",
    "import matplotlib.pyplot as plt\n",
    "\n",
    "import dicom\n",
    "\n",
    "from swat import *"
   ]
  },
  {
   "cell_type": "markdown",
   "metadata": {},
   "source": [
    "Load the available patient images."
   ]
  },
  {
   "cell_type": "code",
   "execution_count": 2,
   "metadata": {},
   "outputs": [],
   "source": [
    "IMAGE_PATH = '../sample_images'\n",
    "patients = os.listdir(IMAGE_PATH)\n",
    "patients.sort()"
   ]
  },
  {
   "cell_type": "code",
   "execution_count": 3,
   "metadata": {},
   "outputs": [
    {
     "data": {
      "text/plain": [
       "['00cba091fa4ad62cc3200a657aeb957e',\n '0a099f2549429d29b32f349e95fb2244',\n '0a0c32c9e08cc2ea76a71649de56be6d',\n '0a38e7597ca26f9374f8ea2770ba870d',\n '0acbebb8d463b4b9ca88cf38431aac69',\n '0b20184e0cd497028bdd155d9fb42dc9',\n '0bd0e3056cbf23a1cb7f0f0b18446068',\n '0c0de3749d4fe175b7a5098b060982a1',\n '0c37613214faddf8701ca41e6d43f56e',\n '0c59313f52304e25d5a7dcf9877633b1',\n '0c60f4b87afcb3e2dfa65abbbf3ef2f9',\n '0c98fcb55e3f36d0c2b6507f62f4c5f1',\n '0c9d8314f9c69840e25febabb1229fa4',\n '0ca943d821204ceb089510f836a367fd',\n '0d06d764d3c07572074d468b4cff954f',\n '0d19f1c627df49eb223771c28548350e',\n '0d2fcf787026fece4e57be167d079383',\n '0d941a3ad6c889ac451caf89c46cb92a',\n '0ddeb08e9c97227853422bd71a2a695e',\n '0de72529c30fe642bc60dcb75c87f6bd']"
      ]
     },
     "execution_count": 3,
     "metadata": {},
     "output_type": "execute_result"
    }
   ],
   "source": [
    "patients"
   ]
  },
  {
   "cell_type": "markdown",
   "metadata": {},
   "source": [
    "Connect to the CAS server. My _authinfo file is located in my home directory: ~/_authinfo and contains as its first line \"default user europe\\sbxjen password ...\"."
   ]
  },
  {
   "cell_type": "code",
   "execution_count": null,
   "metadata": {},
   "outputs": [],
   "source": [
    "conn = CAS('rdcgrd001.unx.sas.com', '63901', authinfo='../../_authinfo')\n",
    "conn.setsessopt(caslib='CASUSER(sbxjen)')"
   ]
  },
  {
   "cell_type": "code",
   "execution_count": 15,
   "metadata": {},
   "outputs": [
    {
     "name": "stdout",
     "output_type": "stream",
     "text": [
      "NOTE: Added action set 'image'.\n"
     ]
    },
    {
     "name": "stderr",
     "output_type": "stream",
     "text": [
      "ERROR: Action set 'BioMedImage' was not found.\nERROR: Action set 'BioMedImage' was not loaded due to errors.\nERROR: The action stopped due to errors.\n"
     ]
    },
    {
     "name": "stdout",
     "output_type": "stream",
     "text": [
      "NOTE: Added action set 'deepLearn'.\n"
     ]
    },
    {
     "data": {
      "text/html": [
       "<div class=\"cas-results-key\"><b>&#167; actionset</b></div>\n",
       "<div class=\"cas-results-body\">\n",
       "<div>deepLearn</div>\n",
       "</div>\n",
       "<div class=\"cas-output-area\"></div>\n",
       "<p class=\"cas-results-performance\"><small><span class=\"cas-elapsed\">elapsed 0.0644s</span> &#183; <span class=\"cas-user\">user 0.104s</span> &#183; <span class=\"cas-sys\">sys 0.666s</span> &#183; <span class=\"cas-memory\">mem 4.16MB</span></small></p>"
      ],
      "text/plain": [
       "<div class=\"cas-results-key\"><b>&#167; actionset</b></div>\n",
       "<div class=\"cas-results-body\">\n",
       "<div>deepLearn</div>\n",
       "</div>\n",
       "<div class=\"cas-output-area\"></div>\n",
       "<p class=\"cas-results-performance\"><small><span class=\"cas-elapsed\">elapsed 0.0644s</span> &#183; <span class=\"cas-user\">user 0.104s</span> &#183; <span class=\"cas-sys\">sys 0.666s</span> &#183; <span class=\"cas-memory\">mem 4.16MB</span></small></p>"
      ]
     },
     "execution_count": 15,
     "metadata": {},
     "output_type": "execute_result"
    }
   ],
   "source": [
    "conn.loadactionset(actionset='image')\n",
    "# conn.loadactionset(actionset='BioMedImage') seems not available\n",
    "conn.loadactionset(actionset='deepLearn')"
   ]
  },
  {
   "cell_type": "code",
   "execution_count": 8,
   "metadata": {},
   "outputs": [],
   "source": [
    "def loadscan(path):\n",
    "    \"\"\"\n",
    "    Load a scan, which consists of multiple slices.\n",
    "    :param      path: path to a patient scan\n",
    "    :return:    slices: a list of dicom.dataset.FileDataset\n",
    "    \"\"\"\n",
    "    slices = [dicom.read_file(path + '/' + s) for s in os.listdir(path)]\n",
    "    slices.sort(key = lambda x: int(x.ImagePositionPatient[2]))\n",
    "    try:\n",
    "        st = np.abs(slices[0].ImagePositionPatient[2] - slices[1].ImagePositionPatient[2])\n",
    "    except:\n",
    "        st = np.abs(slices[0].SliceLocation - slices[1].SliceLocation)\n",
    "    for s in slices:\n",
    "        s.SliceThickness = st\n",
    "    return slices"
   ]
  },
  {
   "cell_type": "code",
   "execution_count": 9,
   "metadata": {},
   "outputs": [],
   "source": [
    "def getpixels(path):\n",
    "    \"\"\"\n",
    "    Get scan pixels.\n",
    "    :param path: \n",
    "    :return: \n",
    "    \"\"\"\n",
    "    slices = loadscan(path)\n",
    "    image = np.stack([s.pixel_array for s in slices])\n",
    "    return image"
   ]
  },
  {
   "cell_type": "code",
   "execution_count": null,
   "metadata": {},
   "outputs": [],
   "source": [
    "Every image is a layered scan: a 3D (length x breadth x height) numpy array."
   ]
  },
  {
   "cell_type": "code",
   "execution_count": 10,
   "metadata": {},
   "outputs": [],
   "source": [
    "firstPatientPixels = getpixels(IMAGE_PATH + '/' + patients[0])\n",
    "df = pd.DataFrame(firstPatientPixels[80])"
   ]
  },
  {
   "cell_type": "code",
   "execution_count": 11,
   "metadata": {},
   "outputs": [
    {
     "data": {
      "text/html": [
       "<div>\n",
       "<table border=\"1\" class=\"dataframe\">\n",
       "  <thead>\n",
       "    <tr style=\"text-align: right;\">\n",
       "      <th></th>\n",
       "      <th>0</th>\n",
       "      <th>1</th>\n",
       "      <th>2</th>\n",
       "      <th>3</th>\n",
       "      <th>4</th>\n",
       "      <th>5</th>\n",
       "      <th>6</th>\n",
       "      <th>7</th>\n",
       "      <th>8</th>\n",
       "      <th>9</th>\n",
       "      <th>...</th>\n",
       "      <th>502</th>\n",
       "      <th>503</th>\n",
       "      <th>504</th>\n",
       "      <th>505</th>\n",
       "      <th>506</th>\n",
       "      <th>507</th>\n",
       "      <th>508</th>\n",
       "      <th>509</th>\n",
       "      <th>510</th>\n",
       "      <th>511</th>\n",
       "    </tr>\n",
       "  </thead>\n",
       "  <tbody>\n",
       "    <tr>\n",
       "      <th>0</th>\n",
       "      <td>-2000</td>\n",
       "      <td>-2000</td>\n",
       "      <td>-2000</td>\n",
       "      <td>-2000</td>\n",
       "      <td>-2000</td>\n",
       "      <td>-2000</td>\n",
       "      <td>-2000</td>\n",
       "      <td>-2000</td>\n",
       "      <td>-2000</td>\n",
       "      <td>-2000</td>\n",
       "      <td>...</td>\n",
       "      <td>-2000</td>\n",
       "      <td>-2000</td>\n",
       "      <td>-2000</td>\n",
       "      <td>-2000</td>\n",
       "      <td>-2000</td>\n",
       "      <td>-2000</td>\n",
       "      <td>-2000</td>\n",
       "      <td>-2000</td>\n",
       "      <td>-2000</td>\n",
       "      <td>-2000</td>\n",
       "    </tr>\n",
       "    <tr>\n",
       "      <th>1</th>\n",
       "      <td>-2000</td>\n",
       "      <td>-2000</td>\n",
       "      <td>-2000</td>\n",
       "      <td>-2000</td>\n",
       "      <td>-2000</td>\n",
       "      <td>-2000</td>\n",
       "      <td>-2000</td>\n",
       "      <td>-2000</td>\n",
       "      <td>-2000</td>\n",
       "      <td>-2000</td>\n",
       "      <td>...</td>\n",
       "      <td>-2000</td>\n",
       "      <td>-2000</td>\n",
       "      <td>-2000</td>\n",
       "      <td>-2000</td>\n",
       "      <td>-2000</td>\n",
       "      <td>-2000</td>\n",
       "      <td>-2000</td>\n",
       "      <td>-2000</td>\n",
       "      <td>-2000</td>\n",
       "      <td>-2000</td>\n",
       "    </tr>\n",
       "    <tr>\n",
       "      <th>2</th>\n",
       "      <td>-2000</td>\n",
       "      <td>-2000</td>\n",
       "      <td>-2000</td>\n",
       "      <td>-2000</td>\n",
       "      <td>-2000</td>\n",
       "      <td>-2000</td>\n",
       "      <td>-2000</td>\n",
       "      <td>-2000</td>\n",
       "      <td>-2000</td>\n",
       "      <td>-2000</td>\n",
       "      <td>...</td>\n",
       "      <td>-2000</td>\n",
       "      <td>-2000</td>\n",
       "      <td>-2000</td>\n",
       "      <td>-2000</td>\n",
       "      <td>-2000</td>\n",
       "      <td>-2000</td>\n",
       "      <td>-2000</td>\n",
       "      <td>-2000</td>\n",
       "      <td>-2000</td>\n",
       "      <td>-2000</td>\n",
       "    </tr>\n",
       "    <tr>\n",
       "      <th>3</th>\n",
       "      <td>-2000</td>\n",
       "      <td>-2000</td>\n",
       "      <td>-2000</td>\n",
       "      <td>-2000</td>\n",
       "      <td>-2000</td>\n",
       "      <td>-2000</td>\n",
       "      <td>-2000</td>\n",
       "      <td>-2000</td>\n",
       "      <td>-2000</td>\n",
       "      <td>-2000</td>\n",
       "      <td>...</td>\n",
       "      <td>-2000</td>\n",
       "      <td>-2000</td>\n",
       "      <td>-2000</td>\n",
       "      <td>-2000</td>\n",
       "      <td>-2000</td>\n",
       "      <td>-2000</td>\n",
       "      <td>-2000</td>\n",
       "      <td>-2000</td>\n",
       "      <td>-2000</td>\n",
       "      <td>-2000</td>\n",
       "    </tr>\n",
       "    <tr>\n",
       "      <th>4</th>\n",
       "      <td>-2000</td>\n",
       "      <td>-2000</td>\n",
       "      <td>-2000</td>\n",
       "      <td>-2000</td>\n",
       "      <td>-2000</td>\n",
       "      <td>-2000</td>\n",
       "      <td>-2000</td>\n",
       "      <td>-2000</td>\n",
       "      <td>-2000</td>\n",
       "      <td>-2000</td>\n",
       "      <td>...</td>\n",
       "      <td>-2000</td>\n",
       "      <td>-2000</td>\n",
       "      <td>-2000</td>\n",
       "      <td>-2000</td>\n",
       "      <td>-2000</td>\n",
       "      <td>-2000</td>\n",
       "      <td>-2000</td>\n",
       "      <td>-2000</td>\n",
       "      <td>-2000</td>\n",
       "      <td>-2000</td>\n",
       "    </tr>\n",
       "  </tbody>\n",
       "</table>\n",
       "<p>5 rows × 512 columns</p>\n",
       "</div>"
      ],
      "text/plain": [
       "<div>\n",
       "<table border=\"1\" class=\"dataframe\">\n",
       "  <thead>\n",
       "    <tr style=\"text-align: right;\">\n",
       "      <th></th>\n",
       "      <th>0</th>\n",
       "      <th>1</th>\n",
       "      <th>2</th>\n",
       "      <th>3</th>\n",
       "      <th>4</th>\n",
       "      <th>5</th>\n",
       "      <th>6</th>\n",
       "      <th>7</th>\n",
       "      <th>8</th>\n",
       "      <th>9</th>\n",
       "      <th>...</th>\n",
       "      <th>502</th>\n",
       "      <th>503</th>\n",
       "      <th>504</th>\n",
       "      <th>505</th>\n",
       "      <th>506</th>\n",
       "      <th>507</th>\n",
       "      <th>508</th>\n",
       "      <th>509</th>\n",
       "      <th>510</th>\n",
       "      <th>511</th>\n",
       "    </tr>\n",
       "  </thead>\n",
       "  <tbody>\n",
       "    <tr>\n",
       "      <th>0</th>\n",
       "      <td>-2000</td>\n",
       "      <td>-2000</td>\n",
       "      <td>-2000</td>\n",
       "      <td>-2000</td>\n",
       "      <td>-2000</td>\n",
       "      <td>-2000</td>\n",
       "      <td>-2000</td>\n",
       "      <td>-2000</td>\n",
       "      <td>-2000</td>\n",
       "      <td>-2000</td>\n",
       "      <td>...</td>\n",
       "      <td>-2000</td>\n",
       "      <td>-2000</td>\n",
       "      <td>-2000</td>\n",
       "      <td>-2000</td>\n",
       "      <td>-2000</td>\n",
       "      <td>-2000</td>\n",
       "      <td>-2000</td>\n",
       "      <td>-2000</td>\n",
       "      <td>-2000</td>\n",
       "      <td>-2000</td>\n",
       "    </tr>\n",
       "    <tr>\n",
       "      <th>1</th>\n",
       "      <td>-2000</td>\n",
       "      <td>-2000</td>\n",
       "      <td>-2000</td>\n",
       "      <td>-2000</td>\n",
       "      <td>-2000</td>\n",
       "      <td>-2000</td>\n",
       "      <td>-2000</td>\n",
       "      <td>-2000</td>\n",
       "      <td>-2000</td>\n",
       "      <td>-2000</td>\n",
       "      <td>...</td>\n",
       "      <td>-2000</td>\n",
       "      <td>-2000</td>\n",
       "      <td>-2000</td>\n",
       "      <td>-2000</td>\n",
       "      <td>-2000</td>\n",
       "      <td>-2000</td>\n",
       "      <td>-2000</td>\n",
       "      <td>-2000</td>\n",
       "      <td>-2000</td>\n",
       "      <td>-2000</td>\n",
       "    </tr>\n",
       "    <tr>\n",
       "      <th>2</th>\n",
       "      <td>-2000</td>\n",
       "      <td>-2000</td>\n",
       "      <td>-2000</td>\n",
       "      <td>-2000</td>\n",
       "      <td>-2000</td>\n",
       "      <td>-2000</td>\n",
       "      <td>-2000</td>\n",
       "      <td>-2000</td>\n",
       "      <td>-2000</td>\n",
       "      <td>-2000</td>\n",
       "      <td>...</td>\n",
       "      <td>-2000</td>\n",
       "      <td>-2000</td>\n",
       "      <td>-2000</td>\n",
       "      <td>-2000</td>\n",
       "      <td>-2000</td>\n",
       "      <td>-2000</td>\n",
       "      <td>-2000</td>\n",
       "      <td>-2000</td>\n",
       "      <td>-2000</td>\n",
       "      <td>-2000</td>\n",
       "    </tr>\n",
       "    <tr>\n",
       "      <th>3</th>\n",
       "      <td>-2000</td>\n",
       "      <td>-2000</td>\n",
       "      <td>-2000</td>\n",
       "      <td>-2000</td>\n",
       "      <td>-2000</td>\n",
       "      <td>-2000</td>\n",
       "      <td>-2000</td>\n",
       "      <td>-2000</td>\n",
       "      <td>-2000</td>\n",
       "      <td>-2000</td>\n",
       "      <td>...</td>\n",
       "      <td>-2000</td>\n",
       "      <td>-2000</td>\n",
       "      <td>-2000</td>\n",
       "      <td>-2000</td>\n",
       "      <td>-2000</td>\n",
       "      <td>-2000</td>\n",
       "      <td>-2000</td>\n",
       "      <td>-2000</td>\n",
       "      <td>-2000</td>\n",
       "      <td>-2000</td>\n",
       "    </tr>\n",
       "    <tr>\n",
       "      <th>4</th>\n",
       "      <td>-2000</td>\n",
       "      <td>-2000</td>\n",
       "      <td>-2000</td>\n",
       "      <td>-2000</td>\n",
       "      <td>-2000</td>\n",
       "      <td>-2000</td>\n",
       "      <td>-2000</td>\n",
       "      <td>-2000</td>\n",
       "      <td>-2000</td>\n",
       "      <td>-2000</td>\n",
       "      <td>...</td>\n",
       "      <td>-2000</td>\n",
       "      <td>-2000</td>\n",
       "      <td>-2000</td>\n",
       "      <td>-2000</td>\n",
       "      <td>-2000</td>\n",
       "      <td>-2000</td>\n",
       "      <td>-2000</td>\n",
       "      <td>-2000</td>\n",
       "      <td>-2000</td>\n",
       "      <td>-2000</td>\n",
       "    </tr>\n",
       "  </tbody>\n",
       "</table>\n",
       "<p>5 rows × 512 columns</p>\n",
       "</div>"
      ]
     },
     "execution_count": 11,
     "metadata": {},
     "output_type": "execute_result"
    }
   ],
   "source": [
    "df.head()"
   ]
  },
  {
   "cell_type": "code",
   "execution_count": null,
   "metadata": {},
   "outputs": [],
   "source": [
    "Just a test to check how standard CAS images should look like."
   ]
  },
  {
   "cell_type": "code",
   "execution_count": 12,
   "metadata": {},
   "outputs": [
    {
     "name": "stdout",
     "output_type": "stream",
     "text": [
      "NOTE: Loaded 4 images from /u/etfcan/images/testImages into Cloud Analytic Services table imagesTable.\n"
     ]
    },
    {
     "data": {
      "text/html": [
       "<div class=\"cas-output-area\"></div>\n",
       "<p class=\"cas-results-performance\"><small><span class=\"cas-elapsed\">elapsed 0.959s</span> &#183; <span class=\"cas-user\">user 1.54s</span> &#183; <span class=\"cas-sys\">sys 4.65s</span> &#183; <span class=\"cas-memory\">mem 488MB</span></small></p>"
      ],
      "text/plain": [
       "<div class=\"cas-output-area\"></div>\n",
       "<p class=\"cas-results-performance\"><small><span class=\"cas-elapsed\">elapsed 0.959s</span> &#183; <span class=\"cas-user\">user 1.54s</span> &#183; <span class=\"cas-sys\">sys 4.65s</span> &#183; <span class=\"cas-memory\">mem 488MB</span></small></p>"
      ]
     },
     "execution_count": 12,
     "metadata": {},
     "output_type": "execute_result"
    }
   ],
   "source": [
    "conn.image.loadimages(casout={'caslib':'CASUSER(sbxjen)', 'name':'imagesTable', 'replace':True},\n",
    "                      path='/u/etfcan/images/testImages')"
   ]
  },
  {
   "cell_type": "code",
   "execution_count": 16,
   "metadata": {},
   "outputs": [
    {
     "name": "stdout",
     "output_type": "stream",
     "text": [
      "NOTE: Table IMAGESTABLE contains compressed images.\nNOTE: 4 out of 4 images were processed successfully and saved to the Cloud Analytic Services table processedImagesTable.\n"
     ]
    }
   ],
   "source": [
    "conn.image.flattenimagetable(casout={'caslib':'CASUSER(sbxjen)', 'name':'processedImagesTable', 'replace':True}, \n",
    "                                   imagetable={'caslib':'CASUSER(sbxjen)','name':'imagesTable'})\n",
    "out = conn.table.fetch(table={'caslib':'CASUSER(sbxjen)', 'name':'processedImagesTable'}, to=2)"
   ]
  },
  {
   "cell_type": "code",
   "execution_count": 17,
   "metadata": {},
   "outputs": [
    {
     "data": {
      "text/html": [
       "<div class=\"cas-results-key\"><b>&#167; Fetch</b></div>\n",
       "<div class=\"cas-results-body\">\n",
       "<div>\n",
       "<table border=\"1\" class=\"dataframe\"><caption>Selected Rows from Table PROCESSEDIMAGESTABLE</caption>\n",
       "  <thead>\n",
       "    <tr style=\"text-align: right;\">\n",
       "      <th title=\"\"></th>\n",
       "      <th title=\"_path_\">_path_</th>\n",
       "      <th title=\"c1\">c1</th>\n",
       "      <th title=\"c2\">c2</th>\n",
       "      <th title=\"c3\">c3</th>\n",
       "      <th title=\"c4\">c4</th>\n",
       "      <th title=\"c5\">c5</th>\n",
       "      <th title=\"c6\">c6</th>\n",
       "      <th title=\"c7\">c7</th>\n",
       "      <th title=\"c8\">c8</th>\n",
       "      <th title=\"c9\">c9</th>\n",
       "      <th title=\"...\">...</th>\n",
       "      <th title=\"c3063\">c3063</th>\n",
       "      <th title=\"c3064\">c3064</th>\n",
       "      <th title=\"c3065\">c3065</th>\n",
       "      <th title=\"c3066\">c3066</th>\n",
       "      <th title=\"c3067\">c3067</th>\n",
       "      <th title=\"c3068\">c3068</th>\n",
       "      <th title=\"c3069\">c3069</th>\n",
       "      <th title=\"c3070\">c3070</th>\n",
       "      <th title=\"c3071\">c3071</th>\n",
       "      <th title=\"c3072\">c3072</th>\n",
       "    </tr>\n",
       "  </thead>\n",
       "  <tbody>\n",
       "    <tr>\n",
       "      <th>0</th>\n",
       "      <td>/u/etfcan/images/testImages/sas3.jpg</td>\n",
       "      <td>253.0</td>\n",
       "      <td>197.0</td>\n",
       "      <td>142.0</td>\n",
       "      <td>254.0</td>\n",
       "      <td>194.0</td>\n",
       "      <td>140.0</td>\n",
       "      <td>254.0</td>\n",
       "      <td>197.0</td>\n",
       "      <td>136.0</td>\n",
       "      <td>...</td>\n",
       "      <td>132.0</td>\n",
       "      <td>47.0</td>\n",
       "      <td>150.0</td>\n",
       "      <td>124.0</td>\n",
       "      <td>56.0</td>\n",
       "      <td>149.0</td>\n",
       "      <td>119.0</td>\n",
       "      <td>62.0</td>\n",
       "      <td>151.0</td>\n",
       "      <td>135.0</td>\n",
       "    </tr>\n",
       "    <tr>\n",
       "      <th>1</th>\n",
       "      <td>/u/etfcan/images/testImages/sas1.jpg</td>\n",
       "      <td>208.0</td>\n",
       "      <td>119.0</td>\n",
       "      <td>58.0</td>\n",
       "      <td>220.0</td>\n",
       "      <td>117.0</td>\n",
       "      <td>54.0</td>\n",
       "      <td>225.0</td>\n",
       "      <td>119.0</td>\n",
       "      <td>52.0</td>\n",
       "      <td>...</td>\n",
       "      <td>37.0</td>\n",
       "      <td>90.0</td>\n",
       "      <td>57.0</td>\n",
       "      <td>38.0</td>\n",
       "      <td>94.0</td>\n",
       "      <td>62.0</td>\n",
       "      <td>43.0</td>\n",
       "      <td>91.0</td>\n",
       "      <td>59.0</td>\n",
       "      <td>40.0</td>\n",
       "    </tr>\n",
       "  </tbody>\n",
       "</table>\n",
       "<p>2 rows × 3073 columns</p>\n",
       "</div>\n",
       "</div>\n",
       "<div class=\"cas-output-area\"></div>\n",
       "<p class=\"cas-results-performance\"><small><span class=\"cas-elapsed\">elapsed 0.299s</span> &#183; <span class=\"cas-user\">user 1.1s</span> &#183; <span class=\"cas-sys\">sys 1.53s</span> &#183; <span class=\"cas-memory\">mem 515MB</span></small></p>"
      ],
      "text/plain": [
       "<div class=\"cas-results-key\"><b>&#167; Fetch</b></div>\n",
       "<div class=\"cas-results-body\">\n",
       "<div>\n",
       "<table border=\"1\" class=\"dataframe\"><caption>Selected Rows from Table PROCESSEDIMAGESTABLE</caption>\n",
       "  <thead>\n",
       "    <tr style=\"text-align: right;\">\n",
       "      <th title=\"\"></th>\n",
       "      <th title=\"_path_\">_path_</th>\n",
       "      <th title=\"c1\">c1</th>\n",
       "      <th title=\"c2\">c2</th>\n",
       "      <th title=\"c3\">c3</th>\n",
       "      <th title=\"c4\">c4</th>\n",
       "      <th title=\"c5\">c5</th>\n",
       "      <th title=\"c6\">c6</th>\n",
       "      <th title=\"c7\">c7</th>\n",
       "      <th title=\"c8\">c8</th>\n",
       "      <th title=\"c9\">c9</th>\n",
       "      <th title=\"...\">...</th>\n",
       "      <th title=\"c3063\">c3063</th>\n",
       "      <th title=\"c3064\">c3064</th>\n",
       "      <th title=\"c3065\">c3065</th>\n",
       "      <th title=\"c3066\">c3066</th>\n",
       "      <th title=\"c3067\">c3067</th>\n",
       "      <th title=\"c3068\">c3068</th>\n",
       "      <th title=\"c3069\">c3069</th>\n",
       "      <th title=\"c3070\">c3070</th>\n",
       "      <th title=\"c3071\">c3071</th>\n",
       "      <th title=\"c3072\">c3072</th>\n",
       "    </tr>\n",
       "  </thead>\n",
       "  <tbody>\n",
       "    <tr>\n",
       "      <th>0</th>\n",
       "      <td>/u/etfcan/images/testImages/sas3.jpg</td>\n",
       "      <td>253.0</td>\n",
       "      <td>197.0</td>\n",
       "      <td>142.0</td>\n",
       "      <td>254.0</td>\n",
       "      <td>194.0</td>\n",
       "      <td>140.0</td>\n",
       "      <td>254.0</td>\n",
       "      <td>197.0</td>\n",
       "      <td>136.0</td>\n",
       "      <td>...</td>\n",
       "      <td>132.0</td>\n",
       "      <td>47.0</td>\n",
       "      <td>150.0</td>\n",
       "      <td>124.0</td>\n",
       "      <td>56.0</td>\n",
       "      <td>149.0</td>\n",
       "      <td>119.0</td>\n",
       "      <td>62.0</td>\n",
       "      <td>151.0</td>\n",
       "      <td>135.0</td>\n",
       "    </tr>\n",
       "    <tr>\n",
       "      <th>1</th>\n",
       "      <td>/u/etfcan/images/testImages/sas1.jpg</td>\n",
       "      <td>208.0</td>\n",
       "      <td>119.0</td>\n",
       "      <td>58.0</td>\n",
       "      <td>220.0</td>\n",
       "      <td>117.0</td>\n",
       "      <td>54.0</td>\n",
       "      <td>225.0</td>\n",
       "      <td>119.0</td>\n",
       "      <td>52.0</td>\n",
       "      <td>...</td>\n",
       "      <td>37.0</td>\n",
       "      <td>90.0</td>\n",
       "      <td>57.0</td>\n",
       "      <td>38.0</td>\n",
       "      <td>94.0</td>\n",
       "      <td>62.0</td>\n",
       "      <td>43.0</td>\n",
       "      <td>91.0</td>\n",
       "      <td>59.0</td>\n",
       "      <td>40.0</td>\n",
       "    </tr>\n",
       "  </tbody>\n",
       "</table>\n",
       "<p>2 rows × 3073 columns</p>\n",
       "</div>\n",
       "</div>\n",
       "<div class=\"cas-output-area\"></div>\n",
       "<p class=\"cas-results-performance\"><small><span class=\"cas-elapsed\">elapsed 0.299s</span> &#183; <span class=\"cas-user\">user 1.1s</span> &#183; <span class=\"cas-sys\">sys 1.53s</span> &#183; <span class=\"cas-memory\">mem 515MB</span></small></p>"
      ]
     },
     "execution_count": 17,
     "metadata": {},
     "output_type": "execute_result"
    }
   ],
   "source": [
    "out"
   ]
  },
  {
   "cell_type": "code",
   "execution_count": null,
   "metadata": {},
   "outputs": [],
   "source": [
    "Just like in the execDemo2016Jan18_rev1_bak.html, we should be able to load dicom images now. "
   ]
  },
  {
   "cell_type": "code",
   "execution_count": 22,
   "metadata": {},
   "outputs": [
    {
     "name": "stdout",
     "output_type": "stream",
     "text": [
      "NOTE: Loaded 0 images from /u/sbxjen/sample_images/00cba091fa4ad62cc3200a657aeb957e into Cloud Analytic Services table sample_images.\n"
     ]
    },
    {
     "data": {
      "text/html": [
       "<div class=\"cas-output-area\"></div>\n",
       "<p class=\"cas-results-performance\"><small><span class=\"cas-elapsed\">elapsed 0.125s</span> &#183; <span class=\"cas-user\">user 0.202s</span> &#183; <span class=\"cas-sys\">sys 1.33s</span> &#183; <span class=\"cas-memory\">mem 292MB</span></small></p>"
      ],
      "text/plain": [
       "<div class=\"cas-output-area\"></div>\n",
       "<p class=\"cas-results-performance\"><small><span class=\"cas-elapsed\">elapsed 0.125s</span> &#183; <span class=\"cas-user\">user 0.202s</span> &#183; <span class=\"cas-sys\">sys 1.33s</span> &#183; <span class=\"cas-memory\">mem 292MB</span></small></p>"
      ]
     },
     "execution_count": 22,
     "metadata": {},
     "output_type": "execute_result"
    }
   ],
   "source": [
    "conn.image.loadimages(cas Out={'name':'sample_images', 'replace':True}, decode=True, path='/u/sbxjen/sample_images/00cba091fa4ad62cc3200a657aeb957e')"
   ]
  },
  {
   "cell_type": "code",
   "execution_count": null,
   "metadata": {},
   "outputs": [],
   "source": [
    ""
   ]
  }
 ],
 "metadata": {
  "kernelspec": {
   "display_name": "Python 2",
   "language": "python",
   "name": "python2"
  },
  "language_info": {
   "codemirror_mode": {
    "name": "ipython",
    "version": 2.0
   },
   "file_extension": ".py",
   "mimetype": "text/x-python",
   "name": "python",
   "nbconvert_exporter": "python",
   "pygments_lexer": "ipython2",
   "version": "2.7.6"
  }
 },
 "nbformat": 4,
 "nbformat_minor": 0
}