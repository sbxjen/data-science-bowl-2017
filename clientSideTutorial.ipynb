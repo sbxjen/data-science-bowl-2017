{
 "cells": [
  {
   "cell_type": "code",
   "execution_count": 2,
   "metadata": {
    "collapsed": true
   },
   "outputs": [],
   "source": [
    "import numpy as np\n",
    "import pandas as pd\n",
    "import os\n",
    "import struct\n",
    "import matplotlib.pyplot as plt\n",
    "\n",
    "# import cv2\n",
    "\n",
    "import dicom\n",
    "# import SimpleITK as sitk"
   ]
  },
  {
   "cell_type": "markdown",
   "metadata": {},
   "source": [
    "Load the available patient images: sample_images.7z from https://www.kaggle.com/c/data-science-bowl-2017/data."
   ]
  },
  {
   "cell_type": "code",
   "execution_count": 3,
   "metadata": {},
   "outputs": [
    {
     "name": "stdout",
     "output_type": "stream",
     "text": [
      "134\n"
     ]
    }
   ],
   "source": [
    "IMAGE_PATH = '../sample_images'\n",
    "# Each folder in IMAGE_PATH represents one patient scan = one (3D) patient image.\n",
    "patients = os.listdir(IMAGE_PATH)\n",
    "patients.sort()\n",
    "# Each folder contains N DICOM files, where N is equal to the number of slices for the patient.\n",
    "print(len(os.listdir(IMAGE_PATH + '/' + patients[0])))"
   ]
  },
  {
   "cell_type": "markdown",
   "metadata": {},
   "source": [
    "Read the associated labels."
   ]
  },
  {
   "cell_type": "code",
   "execution_count": 4,
   "metadata": {},
   "outputs": [
    {
     "data": {
      "text/html": [
       "<div>\n",
       "<table border=\"1\" class=\"dataframe\">\n",
       "  <thead>\n",
       "    <tr style=\"text-align: right;\">\n",
       "      <th></th>\n",
       "      <th>cancer</th>\n",
       "    </tr>\n",
       "    <tr>\n",
       "      <th>id</th>\n",
       "      <th></th>\n",
       "    </tr>\n",
       "  </thead>\n",
       "  <tbody>\n",
       "    <tr>\n",
       "      <th>0015ceb851d7251b8f399e39779d1e7d</th>\n",
       "      <td>1</td>\n",
       "    </tr>\n",
       "    <tr>\n",
       "      <th>0030a160d58723ff36d73f41b170ec21</th>\n",
       "      <td>0</td>\n",
       "    </tr>\n",
       "    <tr>\n",
       "      <th>003f41c78e6acfa92430a057ac0b306e</th>\n",
       "      <td>0</td>\n",
       "    </tr>\n",
       "    <tr>\n",
       "      <th>006b96310a37b36cccb2ab48d10b49a3</th>\n",
       "      <td>1</td>\n",
       "    </tr>\n",
       "    <tr>\n",
       "      <th>008464bb8521d09a42985dd8add3d0d2</th>\n",
       "      <td>1</td>\n",
       "    </tr>\n",
       "  </tbody>\n",
       "</table>\n",
       "</div>"
      ],
      "text/plain": [
       "<div>\n",
       "<table border=\"1\" class=\"dataframe\">\n",
       "  <thead>\n",
       "    <tr style=\"text-align: right;\">\n",
       "      <th></th>\n",
       "      <th>cancer</th>\n",
       "    </tr>\n",
       "    <tr>\n",
       "      <th>id</th>\n",
       "      <th></th>\n",
       "    </tr>\n",
       "  </thead>\n",
       "  <tbody>\n",
       "    <tr>\n",
       "      <th>0015ceb851d7251b8f399e39779d1e7d</th>\n",
       "      <td>1</td>\n",
       "    </tr>\n",
       "    <tr>\n",
       "      <th>0030a160d58723ff36d73f41b170ec21</th>\n",
       "      <td>0</td>\n",
       "    </tr>\n",
       "    <tr>\n",
       "      <th>003f41c78e6acfa92430a057ac0b306e</th>\n",
       "      <td>0</td>\n",
       "    </tr>\n",
       "    <tr>\n",
       "      <th>006b96310a37b36cccb2ab48d10b49a3</th>\n",
       "      <td>1</td>\n",
       "    </tr>\n",
       "    <tr>\n",
       "      <th>008464bb8521d09a42985dd8add3d0d2</th>\n",
       "      <td>1</td>\n",
       "    </tr>\n",
       "  </tbody>\n",
       "</table>\n",
       "</div>"
      ]
     },
     "execution_count": 4,
     "metadata": {},
     "output_type": "execute_result"
    }
   ],
   "source": [
    "labels = pd.read_csv('../stage1_labels.csv', index_col=0)\n",
    "print(labels.head())"
   ]
  },
  {
   "cell_type": "markdown",
   "metadata": {},
   "source": [
    "Get the first patient image array. firstPatientImage is a 3D (height x length x breadth) np array."
   ]
  },
  {
   "cell_type": "code",
   "execution_count": 5,
   "metadata": {},
   "outputs": [],
   "source": [
    "def getImage(path):\n",
    "    '''\n",
    "    Load an image, which consists of multiple slices.\n",
    "    :param      path: path to a patient image\n",
    "    :return:    slices: a list of dicom.dataset.FileDataset\n",
    "    '''\n",
    "    slices = [dicom.read_file(path + '/' + s) for s in os.listdir(path)]\n",
    "    slices.sort(key = lambda x: int(x.ImagePositionPatient[2]))\n",
    "    return slices"
   ]
  },
  {
   "cell_type": "code",
   "execution_count": 8,
   "metadata": {},
   "outputs": [],
   "source": [
    "def addThickness(image):\n",
    "    \"\"\"\n",
    "    Update patient image with the thickness of each slice.\n",
    "    :param      image: a list of dicom.dataset.FileDataset\n",
    "    :return:    image: a list of dicom.dataset.FileDataset\n",
    "    \"\"\"\n",
    "    image.sort(key = lambda x: int(x.ImagePositionPatient[2]))\n",
    "    try:\n",
    "        st = np.abs(image[0].ImagePositionPatient[2] - image[1].ImagePositionPatient[2])\n",
    "    except:\n",
    "        st = np.abs(image[0].SliceLocation - image[1].SliceLocation)\n",
    "    for s in image:\n",
    "        s.SliceThickness = st\n",
    "    return image"
   ]
  },
  {
   "cell_type": "code",
   "execution_count": 6,
   "metadata": {},
   "outputs": [],
   "source": [
    "def getImageArray(image):\n",
    "    '''\n",
    "    Get scan pixels.\n",
    "    :param      image: a list of dicom.dataset.FileDataset\n",
    "    :return:    np.array\n",
    "    '''\n",
    "    imageArray = np.stack([x.pixel_array for x in image])\n",
    "    return imageArray"
   ]
  },
  {
   "cell_type": "code",
   "execution_count": 9,
   "metadata": {},
   "outputs": [],
   "source": [
    "firstPatient = getImage(IMAGE_PATH + '/' + patients[0])\n",
    "firstPatient = addThickness(firstPatient)\n",
    "firstPatientImage = getImageArray(firstPatient)"
   ]
  },
  {
   "cell_type": "markdown",
   "metadata": {},
   "source": [
    "Show one of the first patient's slices and show the associated histogram of pixel values."
   ]
  },
  {
   "cell_type": "code",
   "execution_count": null,
   "metadata": {},
   "outputs": [],
   "source": [
    "slice = firstPatientImage[80]\n",
    "df = pd.DataFrame(slice)\n",
    "print(df.head())\n",
    "\n",
    "plt.gray()\n",
    "plt.imshow(slice, vmin=0, vmax=1000)\n",
    "plt.show()\n",
    "\n",
    "plt.hist(slice.flatten(), bins=80)\n",
    "plt.show()\n",
    "s = firstPatient[0]\n",
    "s.RescaleSlope"
   ]
  },
  {
   "cell_type": "code",
   "execution_count": null,
   "metadata": {},
   "outputs": [],
   "source": [
    ""
   ]
  }
 ],
 "metadata": {
  "kernelspec": {
   "display_name": "Python 2",
   "language": "python",
   "name": "python2"
  },
  "language_info": {
   "codemirror_mode": {
    "name": "ipython",
    "version": 2.0
   },
   "file_extension": ".py",
   "mimetype": "text/x-python",
   "name": "python",
   "nbconvert_exporter": "python",
   "pygments_lexer": "ipython2",
   "version": "2.7.6"
  }
 },
 "nbformat": 4,
 "nbformat_minor": 0
}