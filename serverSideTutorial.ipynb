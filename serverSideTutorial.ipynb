{
 "cells": [
  {
   "cell_type": "code",
   "execution_count": 1,
   "metadata": {
    "collapsed": true
   },
   "outputs": [],
   "source": [
    "%matplotlib inline\n",
    "\n",
    "import numpy as np\n",
    "import pandas as pd\n",
    "import os\n",
    "import struct\n",
    "import matplotlib.pyplot as plt\n",
    "\n",
    "# import cv2\n",
    "\n",
    "import dicom\n",
    "# import SimpleITK as sitk \n",
    "\n",
    "from swat import *"
   ]
  },
  {
   "cell_type": "markdown",
   "metadata": {},
   "source": [
    "Connect to the CAS server. \n",
    "My \\_authinfo file is located in my home directory: ~/\\_authinfo and contains as its first line \"default user europe\\\\sbxjen password ...\".\n",
    "Make sure to put the sample images on the CAS server."
   ]
  },
  {
   "cell_type": "code",
   "execution_count": 2,
   "metadata": {},
   "outputs": [
    {
     "name": "stdout",
     "output_type": "stream",
     "text": [
      "NOTE: 'CASUSER(sbxjen)' is now the active caslib.\n"
     ]
    },
    {
     "data": {
      "text/html": [
       "<div class=\"cas-output-area\"></div>\n",
       "<p class=\"cas-results-performance\"><small><span class=\"cas-elapsed\">elapsed 0.00872s</span> &#183; <span class=\"cas-user\">user 0.007s</span> &#183; <span class=\"cas-memory\">mem 0.277MB</span></small></p>"
      ],
      "text/plain": [
       "<div class=\"cas-output-area\"></div>\n",
       "<p class=\"cas-results-performance\"><small><span class=\"cas-elapsed\">elapsed 0.00872s</span> &#183; <span class=\"cas-user\">user 0.007s</span> &#183; <span class=\"cas-memory\">mem 0.277MB</span></small></p>"
      ]
     },
     "execution_count": 2,
     "metadata": {},
     "output_type": "execute_result"
    }
   ],
   "source": [
    "conn = CAS('rdcgrd104.unx.sas.com', '53653', authinfo='../../_authinfo')\n",
    "conn.setsessopt(caslib='CASUSER(sbxjen)')"
   ]
  },
  {
   "cell_type": "markdown",
   "metadata": {},
   "source": [
    "Load the action sets."
   ]
  },
  {
   "cell_type": "code",
   "execution_count": 4,
   "metadata": {},
   "outputs": [
    {
     "name": "stdout",
     "output_type": "stream",
     "text": [
      "NOTE: Added action set 'Image'.\nNOTE: Added action set 'BioMedImage'.\nNOTE: Added action set 'DeepLearn'.\n"
     ]
    },
    {
     "data": {
      "text/html": [
       "<div class=\"cas-results-key\"><b>&#167; actionset</b></div>\n",
       "<div class=\"cas-results-body\">\n",
       "<div>DeepLearn</div>\n",
       "</div>\n",
       "<div class=\"cas-output-area\"></div>\n",
       "<p class=\"cas-results-performance\"><small><span class=\"cas-elapsed\">elapsed 0.000123s</span> &#183; <span class=\"cas-memory\">mem 0.0282MB</span></small></p>"
      ],
      "text/plain": [
       "<div class=\"cas-results-key\"><b>&#167; actionset</b></div>\n",
       "<div class=\"cas-results-body\">\n",
       "<div>DeepLearn</div>\n",
       "</div>\n",
       "<div class=\"cas-output-area\"></div>\n",
       "<p class=\"cas-results-performance\"><small><span class=\"cas-elapsed\">elapsed 0.000123s</span> &#183; <span class=\"cas-memory\">mem 0.0282MB</span></small></p>"
      ]
     },
     "execution_count": 4,
     "metadata": {},
     "output_type": "execute_result"
    }
   ],
   "source": [
    "conn.loadactionset(actionset='Image')\n",
    "conn.loadactionset(actionset='BioMedImage')\n",
    "conn.loadactionset(actionset='DeepLearn')"
   ]
  },
  {
   "cell_type": "markdown",
   "metadata": {},
   "source": [
    "Read the first patient image from sample_images.7z from https://www.kaggle.com/c/data-science-bowl-2017/data. firstPatient is a swat.cas.results.CASResults."
   ]
  },
  {
   "cell_type": "code",
   "execution_count": 129,
   "metadata": {},
   "outputs": [
    {
     "name": "stdout",
     "output_type": "stream",
     "text": [
      "WARNING: Cannot add metadata columns when image decoding is not enabled.\nNOTE: Loaded 134 images from /u/sbxjen/sample_images/00cba091fa4ad62cc3200a657aeb957e into Cloud Analytic Services table 00cba091fa4ad62cc3200a657aeb957e.\n"
     ]
    },
    {
     "data": {
      "text/html": [
       "<div class=\"cas-results-key\"><b>&#167; RecordCount</b></div>\n",
       "<div class=\"cas-results-body\">\n",
       "<div>\n",
       "<table border=\"1\" class=\"dataframe\"><caption>Number of records in 00CBA091FA4AD62CC3200A657AEB957E.</caption>\n",
       "  <thead>\n",
       "    <tr style=\"text-align: right;\">\n",
       "      <th title=\"\"></th>\n",
       "      <th title=\"N\">N</th>\n",
       "    </tr>\n",
       "  </thead>\n",
       "  <tbody>\n",
       "    <tr>\n",
       "      <th>0</th>\n",
       "      <td>134</td>\n",
       "    </tr>\n",
       "  </tbody>\n",
       "</table>\n",
       "</div>\n",
       "</div>\n",
       "<div class=\"cas-output-area\"></div>\n",
       "<p class=\"cas-results-performance\"><small><span class=\"cas-elapsed\">elapsed 0.000311s</span> &#183; <span class=\"cas-sys\">sys 0.001s</span> &#183; <span class=\"cas-memory\">mem 0.131MB</span></small></p>"
      ],
      "text/plain": [
       "<div class=\"cas-results-key\"><b>&#167; RecordCount</b></div>\n",
       "<div class=\"cas-results-body\">\n",
       "<div>\n",
       "<table border=\"1\" class=\"dataframe\"><caption>Number of records in 00CBA091FA4AD62CC3200A657AEB957E.</caption>\n",
       "  <thead>\n",
       "    <tr style=\"text-align: right;\">\n",
       "      <th title=\"\"></th>\n",
       "      <th title=\"N\">N</th>\n",
       "    </tr>\n",
       "  </thead>\n",
       "  <tbody>\n",
       "    <tr>\n",
       "      <th>0</th>\n",
       "      <td>134</td>\n",
       "    </tr>\n",
       "  </tbody>\n",
       "</table>\n",
       "</div>\n",
       "</div>\n",
       "<div class=\"cas-output-area\"></div>\n",
       "<p class=\"cas-results-performance\"><small><span class=\"cas-elapsed\">elapsed 0.000311s</span> &#183; <span class=\"cas-sys\">sys 0.001s</span> &#183; <span class=\"cas-memory\">mem 0.131MB</span></small></p>"
      ]
     },
     "execution_count": 129,
     "metadata": {},
     "output_type": "execute_result"
    }
   ],
   "source": [
    "# Each folder in /u/sbxjen/sample_images/ represents one patient scan = one (3D) patient image.\n",
    "firstPatientName = '00cba091fa4ad62cc3200a657aeb957e'\n",
    "firstPatient = conn.image.loadImages(casOut={'caslib':'CASUSER(sbxjen)', 'name':firstPatientName, 'replace':True},\n",
    "                      addColumns={'Width', 'Height', 'Depth', 'channelType', 'channelCount', 'position', 'orientation', 'spacing'},\n",
    "                      decompress=False, path='/u/sbxjen/sample_images/' + firstPatientName)\n",
    "# Each table contains N records, where N is equal to the number of slices for the patient.\n",
    "conn.table.recordcount(table={'caslib':'CASUSER(sbxjen)', 'name':'00cba091fa4ad62cc3200a657aeb957e'})"
   ]
  },
  {
   "cell_type": "markdown",
   "metadata": {},
   "source": [
    "Read the labels. labels is a swat.cas.table.CASTable. It supports much of the Pandas pandas.DataFrame API."
   ]
  },
  {
   "cell_type": "code",
   "execution_count": null,
   "metadata": {},
   "outputs": [],
   "source": [
    "labels = conn.load_path('stage1_labels.csv', caslib='casuser')\n",
    "labels.head()"
   ]
  },
  {
   "cell_type": "markdown",
   "metadata": {
    "collapsed": false
   },
   "source": [
    "Below is a 3D image. To be continued ..."
   ]
  },
  {
   "cell_type": "code",
   "execution_count": 29,
   "metadata": {},
   "outputs": [
    {
     "name": "stdout",
     "output_type": "stream",
     "text": [
      "NOTE: Loaded 1 image from /u/fivada/Playpens/PlayITK/SampleImages/vhfAnkle.nii into Cloud Analytic Services table medical.\n"
     ]
    },
    {
     "data": {
      "text/html": [
       "<div class=\"cas-output-area\"></div>\n",
       "<p class=\"cas-results-performance\"><small><span class=\"cas-elapsed\">elapsed 0.518s</span> &#183; <span class=\"cas-user\">user 0.174s</span> &#183; <span class=\"cas-sys\">sys 0.334s</span> &#183; <span class=\"cas-memory\">mem 228MB</span></small></p>"
      ],
      "text/plain": [
       "<div class=\"cas-output-area\"></div>\n",
       "<p class=\"cas-results-performance\"><small><span class=\"cas-elapsed\">elapsed 0.518s</span> &#183; <span class=\"cas-user\">user 0.174s</span> &#183; <span class=\"cas-sys\">sys 0.334s</span> &#183; <span class=\"cas-memory\">mem 228MB</span></small></p>"
      ]
     },
     "execution_count": 29,
     "metadata": {},
     "output_type": "execute_result"
    }
   ],
   "source": [
    "conn.image.loadImages(casOut={'caslib':'CASUSER(sbxjen)', 'name':'medical', 'replace':True}, \n",
    "                      addColumns={'Width', 'Height', 'Depth', 'channelType', 'channelCount', 'position', 'orientation', 'spacing'},\n",
    "                      decode=True, path='/u/fivada/Playpens/PlayITK/SampleImages/vhfAnkle.nii')"
   ]
  },
  {
   "cell_type": "markdown",
   "metadata": {},
   "source": [
    "Fetch the first patient image array. fetchedRows is a swat.dataframe.SASDataFrame. firstPatientImage is a 3D (height x length x breadth) np array. I think the intercept has already been added."
   ]
  },
  {
   "cell_type": "markdown",
   "metadata": {},
   "source": [
    "Add slice thickness to downsample, as in https://www.kaggle.com/gzuidhof/data-science-bowl-2017/full-preprocessing-tutorial: def resample."
   ]
  },
  {
   "cell_type": "code",
   "execution_count": 99,
   "metadata": {},
   "outputs": [],
   "source": [
    "def sortAndAddThickness(image):\n",
    "    \"\"\"\n",
    "    Update patient image with the thickness of each slice.\n",
    "    :param      image: the slices making up one image in one CASTable\n",
    "    :return:    image, sorted by slices[\"_positionPatient_\"] = double(slices[\"_position_\"]) and updated with slices[\"_thickness_\"]\n",
    "    \"\"\"\n",
    "    dim = image['_dimension_'][0]\n",
    "    image['_positionPatient_'] = pd.Series(np.array([struct.unpack('='+str(dim)+'d', pos[0:dim*8])[2] for pos in image['_position_']], dtype=np.float64))\n",
    "    image = image.sort_values(by='_positionPatient_')\n",
    "    image = image.reset_index(drop=True)\n",
    "    st = np.abs(image[\"_positionPatient_\"].iloc[0] - image['_positionPatient_'].iloc[1])\n",
    "    print(st)\n",
    "    image['_thickness_'] = pd.Series(st * np.ones_like(image['_positionPatient_'], dtype=np.int64))\n",
    "    return image"
   ]
  },
  {
   "cell_type": "code",
   "execution_count": 113,
   "metadata": {},
   "outputs": [],
   "source": [
    "def getImageArray(images, dimensions, resolutions, imageFormats):\n",
    "    \"\"\"\n",
    "    Get image as 3D image. \n",
    "    :param images: \n",
    "    :param dimensions:\n",
    "    :param resolutions:\n",
    "    :param imageFormats:\n",
    "    :return: \n",
    "    \"\"\"\n",
    "    for n in range(images.shape[0]):\n",
    "        res = np.array(struct.unpack('='+str( dimensions[n])+'q', resolutions[n][0:dimensions[n]*8]), dtype=np.int64)\n",
    "        res = res[::-1]\n",
    "        fmt = imageFormats[n]\n",
    "        nCells = np.prod(res)\n",
    "        if (fmt==37):\n",
    "            slice = np.array(struct.unpack('='+str(nCells)+'i', images[n][0:4*nCells]), dtype=np.int32)\n",
    "            slice = np.reshape(slice, res)\n",
    "        elif (fmt==35):\n",
    "            slice = np.array(struct.unpack('='+str(nCells)+'h', images[n][0:2*nCells]), dtype=np.int16)\n",
    "            slice = np.reshape(slice, res)\n",
    "        # else:\n",
    "        #     image = np.array(bytearray(images[n]))\n",
    "        #     image = np.reshape(image, (res[0], res[1], 3))\n",
    "        #     image = reverse(image, 2)\n",
    "        if (n==0):\n",
    "            imageArray = slice\n",
    "        else:\n",
    "            # print(imageArray.shape, image.shape)\n",
    "            imageArray = np.concatenate([imageArray, slice], axis=0)\n",
    "            # print('here')\n",
    "    imageArray[imageArray==-3024] = -1024\n",
    "    return imageArray"
   ]
  },
  {
   "cell_type": "code",
   "execution_count": 114,
   "metadata": {},
   "outputs": [
    {
     "name": "stdout",
     "output_type": "stream",
     "text": [
      "2.5\n"
     ]
    }
   ],
   "source": [
    "fetchedRows = conn.fetch(table={'caslib':'CASUSER(sbxjen)', 'name':firstPatientName}, sastypes=False, to=300)['Fetch']\n",
    "fetchedRows = sortAndAddThickness(fetchedRows)\n",
    "firstPatientImage = getImageArray(fetchedRows['_image_'], fetchedRows['_dimension_'], fetchedRows['_resolution_'], fetchedRows['_imageFormat_'])"
   ]
  },
  {
   "cell_type": "markdown",
   "metadata": {},
   "source": [
    "Note that \\_spacing\\_ is not a valid alternative."
   ]
  },
  {
   "cell_type": "code",
   "execution_count": 115,
   "metadata": {},
   "outputs": [
    {
     "data": {
      "text/plain": [
       "array([ 1.,  1.,  1.,  1.,  1.,  1.,  1.,  1.,  1.,  1.,  1.,  1.,  1.,\n        1.,  1.,  1.,  1.,  1.,  1.,  1.,  1.,  1.,  1.,  1.,  1.,  1.,\n        1.,  1.,  1.,  1.,  1.,  1.,  1.,  1.,  1.,  1.,  1.,  1.,  1.,\n        1.,  1.,  1.,  1.,  1.,  1.,  1.,  1.,  1.,  1.,  1.,  1.,  1.,\n        1.,  1.,  1.,  1.,  1.,  1.,  1.,  1.,  1.,  1.,  1.,  1.,  1.,\n        1.,  1.,  1.,  1.,  1.,  1.,  1.,  1.,  1.,  1.,  1.,  1.,  1.,\n        1.,  1.,  1.,  1.,  1.,  1.,  1.,  1.,  1.,  1.,  1.,  1.,  1.,\n        1.,  1.,  1.,  1.,  1.,  1.,  1.,  1.,  1.,  1.,  1.,  1.,  1.,\n        1.,  1.,  1.,  1.,  1.,  1.,  1.,  1.,  1.,  1.,  1.,  1.,  1.,\n        1.,  1.,  1.,  1.,  1.,  1.,  1.,  1.,  1.,  1.,  1.,  1.,  1.,\n        1.,  1.,  1.,  1.])"
      ]
     },
     "execution_count": 115,
     "metadata": {},
     "output_type": "execute_result"
    }
   ],
   "source": [
    "np.array([struct.unpack('='+str(3)+'d', pos[0:3*8])[2] for pos in fetchedRows[\"_spacing_\"]], dtype=np.float64)"
   ]
  },
  {
   "cell_type": "markdown",
   "metadata": {},
   "source": [
    "Show one of the first patient's slices and show the associated histogram of pixel values."
   ]
  },
  {
   "cell_type": "code",
   "execution_count": null,
   "metadata": {},
   "outputs": [],
   "source": [
    "slice = firstPatientImage[80]\n",
    "df = pd.DataFrame(slice)\n",
    "print(df.head())\n",
    "\n",
    "plt.gray()\n",
    "plt.imshow(slice, vmin=0, vmax=1000)\n",
    "plt.show()\n",
    "\n",
    "plt.hist(slice.flatten(), bins=80)\n",
    "plt.show()"
   ]
  },
  {
   "cell_type": "code",
   "execution_count": 79,
   "metadata": {},
   "outputs": [
    {
     "name": "stdout",
     "output_type": "stream",
     "text": [
      "NOTE: Loaded 60000 images from /u/mukabu/mnist_data/mnist_images/train into Cloud Analytic Services table train.\n"
     ]
    },
    {
     "data": {
      "text/html": [
       "<div class=\"cas-output-area\"></div>\n",
       "<p class=\"cas-results-performance\"><small><span class=\"cas-elapsed\">elapsed 307s</span> &#183; <span class=\"cas-user\">user 2.01s</span> &#183; <span class=\"cas-sys\">sys 6.59s</span> &#183; <span class=\"cas-memory\">mem 18.1MB</span></small></p>"
      ],
      "text/plain": [
       "<div class=\"cas-output-area\"></div>\n",
       "<p class=\"cas-results-performance\"><small><span class=\"cas-elapsed\">elapsed 307s</span> &#183; <span class=\"cas-user\">user 2.01s</span> &#183; <span class=\"cas-sys\">sys 6.59s</span> &#183; <span class=\"cas-memory\">mem 18.1MB</span></small></p>"
      ]
     },
     "execution_count": 79,
     "metadata": {},
     "output_type": "execute_result"
    }
   ],
   "source": [
    "conn.image.loadimages(\n",
    "    casout={'caslib':'CASUSER(sbxjen)', 'name':'train', 'replace':True},\n",
    "    path='/u/mukabu/mnist_data/mnist_images/train'\n",
    ")"
   ]
  },
  {
   "cell_type": "markdown",
   "metadata": {},
   "source": [
    "The above is nice for visualisation purposes, but we should be able to update the thickness at the server-side."
   ]
  },
  {
   "cell_type": "markdown",
   "metadata": {},
   "source": [
    "Next steps: \n",
    "(1) add thickness as a column, e.g., by \\_id\\_, \n",
    "(2) downsample in all dimensions (RESIZE for 2D, RESCALE?) [1], \n",
    "(3) segmentation? (Finding and drawing contours?, BioMedImage.buildSurface), \n",
    "(4) colour normalisation and zero centering (NORMALIZE, ADD\\_CONSTANT -0.25),\n",
    "(5) adding some noise (Andrew?), \n",
    "(6) turn the thing into a 3D image (???) and \n",
    "(7) join with the labels. \n",
    "Then the data are ready for a CNN.\n",
    "[1] Ideally, we would take thickness and PixelSpacing (not available!) into account."
   ]
  },
  {
   "cell_type": "markdown",
   "metadata": {},
   "source": [
    ""
   ]
  },
  {
   "cell_type": "markdown",
   "metadata": {},
   "source": [
    "Add thickness as a column on the server-side."
   ]
  },
  {
   "cell_type": "markdown",
   "metadata": {},
   "source": [
    "RESIZE\n",
    "conn.image.processImages does not work -- independent of decompress = True / False."
   ]
  },
  {
   "cell_type": "markdown",
   "metadata": {},
   "source": [
    "RESIZE\n",
    "conn.image.processImages does not work -- independent of decompress = True / False."
   ]
  },
  {
   "cell_type": "code",
   "execution_count": 139,
   "metadata": {},
   "outputs": [
    {
     "name": "stdout",
     "output_type": "stream",
     "text": [
      "NOTE: Table 00CBA091FA4AD62CC3200A657AEB957E contains compressed images.\n"
     ]
    },
    {
     "name": "stderr",
     "output_type": "stream",
     "text": [
      "ERROR: The table processedImages already exists in the session.\nERROR: The action stopped due to errors.\n"
     ]
    },
    {
     "data": {
      "text/html": [
       "<div class=\"cas-output-area\"></div>\n",
       "<p class=\"cas-results-performance\"><small><span class=\"cas-elapsed\">elapsed 0.000351s</span> &#183; <span class=\"cas-memory\">mem 0.123MB</span></small></p>"
      ],
      "text/plain": [
       "<div class=\"cas-output-area\"></div>\n",
       "<p class=\"cas-results-performance\"><small><span class=\"cas-elapsed\">elapsed 0.000351s</span> &#183; <span class=\"cas-memory\">mem 0.123MB</span></small></p>"
      ]
     },
     "execution_count": 139,
     "metadata": {},
     "output_type": "execute_result"
    }
   ],
   "source": [
    "IMG_SIZE = 100\n",
    "conn.image.processImages(casout={'caslib':'CASUSER(sbxjen)', 'name':'processedImages'},\n",
    "                         imagefunctions=[{'functionoptions':{'functionType':'RESIZE', 'width':IMG_SIZE, 'height':IMG_SIZE}}],\n",
    "                         imagetable={'caslib':'CASUSER(sbxjen)', 'name':firstPatientName})"
   ]
  },
  {
   "cell_type": "markdown",
   "metadata": {},
   "source": [
    "conn.image.processImages sometimes workw for other image data. Note the bit length overflow\n",
    "code 17 bits 6->7"
   ]
  },
  {
   "cell_type": "code",
   "execution_count": 141,
   "metadata": {},
   "outputs": [
    {
     "name": "stdout",
     "output_type": "stream",
     "text": [
      "NOTE: Table TRAIN contains compressed images.\n"
     ]
    },
    {
     "name": "stderr",
     "output_type": "stream",
     "text": [
      "ERROR: The table otherProcessedImages already exists in the session.\nERROR: The action stopped due to errors.\n"
     ]
    },
    {
     "data": {
      "text/html": [
       "<div class=\"cas-output-area\"></div>\n",
       "<p class=\"cas-results-performance\"><small><span class=\"cas-elapsed\">elapsed 0.000518s</span> &#183; <span class=\"cas-memory\">mem 0.123MB</span></small></p>"
      ],
      "text/plain": [
       "<div class=\"cas-output-area\"></div>\n",
       "<p class=\"cas-results-performance\"><small><span class=\"cas-elapsed\">elapsed 0.000518s</span> &#183; <span class=\"cas-memory\">mem 0.123MB</span></small></p>"
      ]
     },
     "execution_count": 141,
     "metadata": {},
     "output_type": "execute_result"
    }
   ],
   "source": [
    "IMG_SIZE = 100\n",
    "conn.image.processImages(casout={'caslib':'CASUSER(sbxjen)', 'name':'otherProcessedImages'},\n",
    "                         imagefunctions=[{'functionoptions':{'functionType':'RESIZE', 'width':IMG_SIZE, 'height':IMG_SIZE}}],\n",
    "                         imagetable={'caslib':'CASUSER(sbxjen)', 'name':'train'})"
   ]
  },
  {
   "cell_type": "markdown",
   "metadata": {},
   "source": [
    "CNN: createModel and addLayers"
   ]
  },
  {
   "cell_type": "code",
   "execution_count": null,
   "metadata": {},
   "outputs": [],
   "source": [
    "conn.deepLearn.createModel(\n",
    "    model={'name':'LeNet', 'replace':True},\n",
    "    type='CNN'\n",
    ")"
   ]
  },
  {
   "cell_type": "code",
   "execution_count": null,
   "metadata": {},
   "outputs": [],
   "source": [
    ""
   ]
  }
 ],
 "metadata": {
  "kernelspec": {
   "display_name": "Python 2",
   "language": "python",
   "name": "python2"
  },
  "language_info": {
   "codemirror_mode": {
    "name": "ipython",
    "version": 2.0
   },
   "file_extension": ".py",
   "mimetype": "text/x-python",
   "name": "python",
   "nbconvert_exporter": "python",
   "pygments_lexer": "ipython2",
   "version": "2.7.6"
  }
 },
 "nbformat": 4,
 "nbformat_minor": 0
}